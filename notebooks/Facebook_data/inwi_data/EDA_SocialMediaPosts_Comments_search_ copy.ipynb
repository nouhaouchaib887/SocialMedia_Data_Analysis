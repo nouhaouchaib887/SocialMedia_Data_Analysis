{
 "cells": [
  {
   "cell_type": "code",
   "execution_count": 2,
   "metadata": {},
   "outputs": [],
   "source": [
    "import pandas as pd\n",
    "import matplotlib.pyplot as plt\n",
    "import numpy as np\n",
    "import json\n",
    "import seaborn as sns"
   ]
  },
  {
   "cell_type": "markdown",
   "metadata": {},
   "source": [
    "# Facebook _data_winbyinwi"
   ]
  },
  {
   "cell_type": "code",
   "execution_count": 33,
   "metadata": {},
   "outputs": [],
   "source": [
    "with open('../../../data/external/facebook_data_backup/inwi_إنوي_facebook_data_20250605_195731.json', 'r', encoding='utf-8') as f:\n",
    "    data = json.load(f)"
   ]
  },
  {
   "cell_type": "code",
   "execution_count": 34,
   "metadata": {},
   "outputs": [
    {
     "name": "stdout",
     "output_type": "stream",
     "text": [
      "Type des données chargées : <class 'list'>\n"
     ]
    }
   ],
   "source": [
    "print(f\"Type des données chargées : {type(data)}\")"
   ]
  },
  {
   "cell_type": "code",
   "execution_count": 35,
   "metadata": {},
   "outputs": [],
   "source": [
    "posts_df = pd.DataFrame(data if isinstance(data, list) else [data])\n",
    "if 'comments' in posts_df.columns:\n",
    "    posts_df = posts_df.drop(columns=['comments'])\n",
    "\n",
    "#Convertir created_time en datetime\n",
    "posts_df['created_time'] = pd.to_datetime(posts_df['created_time'])"
   ]
  },
  {
   "cell_type": "code",
   "execution_count": 36,
   "metadata": {},
   "outputs": [
    {
     "name": "stdout",
     "output_type": "stream",
     "text": [
      "<class 'pandas.core.frame.DataFrame'>\n",
      "RangeIndex: 16 entries, 0 to 15\n",
      "Data columns (total 23 columns):\n",
      " #   Column          Non-Null Count  Dtype              \n",
      "---  ------          --------------  -----              \n",
      " 0   post_id         16 non-null     object             \n",
      " 1   source_id       16 non-null     object             \n",
      " 2   created_time    16 non-null     datetime64[ns, UTC]\n",
      " 3   updated_time    0 non-null      object             \n",
      " 4   permalink       16 non-null     object             \n",
      " 5   page_id         16 non-null     object             \n",
      " 6   page_name       16 non-null     object             \n",
      " 7   message         16 non-null     object             \n",
      " 8   media_type      16 non-null     object             \n",
      " 9   media_url       6 non-null      object             \n",
      " 10  thumbnail_url   0 non-null      object             \n",
      " 11  can_share       16 non-null     bool               \n",
      " 12  shares          16 non-null     int64              \n",
      " 13  can_comment     16 non-null     bool               \n",
      " 14  comments_count  16 non-null     int64              \n",
      " 15  can_like        16 non-null     bool               \n",
      " 16  like_count      16 non-null     int64              \n",
      " 17  hashtags        16 non-null     object             \n",
      " 18  mentions        16 non-null     object             \n",
      " 19  caption         16 non-null     object             \n",
      " 20  description     16 non-null     object             \n",
      " 21  platform        16 non-null     object             \n",
      " 22  brand_name      16 non-null     object             \n",
      "dtypes: bool(3), datetime64[ns, UTC](1), int64(3), object(16)\n",
      "memory usage: 2.7+ KB\n"
     ]
    }
   ],
   "source": [
    "posts_df.info()"
   ]
  },
  {
   "cell_type": "code",
   "execution_count": 37,
   "metadata": {},
   "outputs": [
    {
     "data": {
      "text/plain": [
       "post_id            0\n",
       "source_id          0\n",
       "created_time       0\n",
       "updated_time      16\n",
       "permalink          0\n",
       "page_id            0\n",
       "page_name          0\n",
       "message            0\n",
       "media_type         0\n",
       "media_url         10\n",
       "thumbnail_url     16\n",
       "can_share          0\n",
       "shares             0\n",
       "can_comment        0\n",
       "comments_count     0\n",
       "can_like           0\n",
       "like_count         0\n",
       "hashtags           0\n",
       "mentions           0\n",
       "caption            0\n",
       "description        0\n",
       "platform           0\n",
       "brand_name         0\n",
       "dtype: int64"
      ]
     },
     "execution_count": 37,
     "metadata": {},
     "output_type": "execute_result"
    }
   ],
   "source": [
    "posts_df.isnull().sum()"
   ]
  },
  {
   "cell_type": "code",
   "execution_count": 39,
   "metadata": {},
   "outputs": [
    {
     "name": "stdout",
     "output_type": "stream",
     "text": [
      "🧪 Champs texte vides :\n",
      " - post_id: 0 lignes vides\n",
      " - source_id: 0 lignes vides\n",
      " - created_time: 0 lignes vides\n",
      " - permalink: 0 lignes vides\n",
      " - page_id: 0 lignes vides\n",
      " - page_name: 0 lignes vides\n",
      " - message: 0 lignes vides\n",
      " - media_type: 0 lignes vides\n",
      " - media_url: 0 lignes vides\n",
      " - thumbnail_url: 0 lignes vides\n",
      "\n",
      "🕒 Vérification des timestamps invalides :\n",
      " - created_time non valides : 0\n",
      "\n",
      "🔁 Valeurs uniques booléennes :\n",
      " - can_share: 1 valeurs uniques ([ True])\n",
      " - can_comment: 1 valeurs uniques ([ True])\n",
      "\n",
      "🔢 Champs numériques avec des zéros :\n",
      " - shares == 0 : 2 lignes\n",
      " - comments_count == 0 : 3 lignes\n",
      " - like_count == 0 : 0 lignes\n",
      "\n",
      "📚 Vérification des champs listes :\n",
      " - hashtags : 0 non-listes / 1 listes vides\n",
      " - mentions : 0 non-listes / 15 listes vides\n"
     ]
    }
   ],
   "source": [
    "\n",
    "# 1. Colonnes à vérifier pour présence de chaînes vides\n",
    "text_fields = [\n",
    "    \"post_id\", \"source_id\", \"created_time\", \"permalink\", \"page_id\",\n",
    "    \"page_name\", \"message\", \"media_type\", \"media_url\", \"thumbnail_url\"\n",
    "]\n",
    "\n",
    "print(\"🧪 Champs texte vides :\")\n",
    "for col in text_fields:\n",
    "    empty_count = (posts_df[col].astype(str).str.strip() == '').sum()\n",
    "    print(f\" - {col}: {empty_count} lignes vides\")\n",
    "\n",
    "# 2. Vérification created_time valide\n",
    "print(\"\\n🕒 Vérification des timestamps invalides :\")\n",
    "invalid_dates = pd.to_datetime(posts_df[\"created_time\"], errors=\"coerce\").isna().sum()\n",
    "print(f\" - created_time non valides : {invalid_dates}\")\n",
    "\n",
    "# 3. Valeurs uniques des booléens\n",
    "print(\"\\n🔁 Valeurs uniques booléennes :\")\n",
    "for col in [\"can_share\", \"can_comment\"]:\n",
    "    print(f\" - {col}: {posts_df[col].nunique()} valeurs uniques ({posts_df[col].unique()})\")\n",
    "\n",
    "# 4. Champs numériques à 0\n",
    "print(\"\\n🔢 Champs numériques avec des zéros :\")\n",
    "for col in [\"shares\", \"comments_count\", \"like_count\"]:\n",
    "    zero_count = (posts_df[col] == 0).sum()\n",
    "    print(f\" - {col} == 0 : {zero_count} lignes\")\n",
    "\n",
    "# 5. Listes : type check et nombre de listes vides\n",
    "print(\"\\n📚 Vérification des champs listes :\")\n",
    "for col in [\"hashtags\", \"mentions\"]:\n",
    "    non_lists = posts_df[~posts_df[col].apply(lambda x: isinstance(x, list))].shape[0]\n",
    "    empty_lists = posts_df[posts_df[col].apply(lambda x: isinstance(x, list) and len(x) == 0)].shape[0]\n",
    "    print(f\" - {col} : {non_lists} non-listes / {empty_lists} listes vides\")"
   ]
  },
  {
   "cell_type": "code",
   "execution_count": 40,
   "metadata": {},
   "outputs": [],
   "source": [
    " #Ajouter des colonnes utiles\n",
    "posts_df['day'] = posts_df['created_time'].dt.date\n",
    "posts_df['hour'] = posts_df['created_time'].dt.hour\n",
    "posts_df['message_length'] = posts_df['message'].fillna('').apply(len)"
   ]
  },
  {
   "cell_type": "code",
   "execution_count": 41,
   "metadata": {},
   "outputs": [
    {
     "name": "stdout",
     "output_type": "stream",
     "text": [
      "                   post_id       source_id  \\\n",
      "count                   16              16   \n",
      "unique                  16              13   \n",
      "top     122121254990821642  61574649282594   \n",
      "freq                     1               2   \n",
      "mean                   NaN             NaN   \n",
      "min                    NaN             NaN   \n",
      "25%                    NaN             NaN   \n",
      "50%                    NaN             NaN   \n",
      "75%                    NaN             NaN   \n",
      "max                    NaN             NaN   \n",
      "std                    NaN             NaN   \n",
      "\n",
      "                               created_time updated_time  \\\n",
      "count                                    16            0   \n",
      "unique                                  NaN            0   \n",
      "top                                     NaN          NaN   \n",
      "freq                                    NaN          NaN   \n",
      "mean    2025-04-30 18:15:07.562500096+00:00          NaN   \n",
      "min               2025-03-18 21:51:12+00:00          NaN   \n",
      "25%        2025-03-28 15:03:00.500000+00:00          NaN   \n",
      "50%        2025-05-06 18:49:24.500000+00:00          NaN   \n",
      "75%     2025-05-27 11:23:04.249999872+00:00          NaN   \n",
      "max               2025-06-02 09:10:00+00:00          NaN   \n",
      "std                                     NaN          NaN   \n",
      "\n",
      "                                                permalink         page_id  \\\n",
      "count                                                  16              16   \n",
      "unique                                                 16              13   \n",
      "top     https://www.facebook.com/permalink.php?story_f...  61574649282594   \n",
      "freq                                                    1               2   \n",
      "mean                                                  NaN             NaN   \n",
      "min                                                   NaN             NaN   \n",
      "25%                                                   NaN             NaN   \n",
      "50%                                                   NaN             NaN   \n",
      "75%                                                   NaN             NaN   \n",
      "max                                                   NaN             NaN   \n",
      "std                                                   NaN             NaN   \n",
      "\n",
      "                page_name                                            message  \\\n",
      "count                  16                                                 16   \n",
      "unique                 13                                                 15   \n",
      "top     Mounir Technology  #عرض #نجمة6 #إنوي #أورونج #inwi #orange #المغر...   \n",
      "freq                    2                                                  2   \n",
      "mean                  NaN                                                NaN   \n",
      "min                   NaN                                                NaN   \n",
      "25%                   NaN                                                NaN   \n",
      "50%                   NaN                                                NaN   \n",
      "75%                   NaN                                                NaN   \n",
      "max                   NaN                                                NaN   \n",
      "std                   NaN                                                NaN   \n",
      "\n",
      "       media_type                                          media_url  ...  \\\n",
      "count          16                                                  6  ...   \n",
      "unique          2                                                  6  ...   \n",
      "top        STATUS  https://www.facebook.com/photo/?fbid=122121254...  ...   \n",
      "freq           12                                                  1  ...   \n",
      "mean          NaN                                                NaN  ...   \n",
      "min           NaN                                                NaN  ...   \n",
      "25%           NaN                                                NaN  ...   \n",
      "50%           NaN                                                NaN  ...   \n",
      "75%           NaN                                                NaN  ...   \n",
      "max           NaN                                                NaN  ...   \n",
      "std           NaN                                                NaN  ...   \n",
      "\n",
      "          like_count                                           hashtags  \\\n",
      "count      16.000000                                                 16   \n",
      "unique           NaN                                                 15   \n",
      "top              NaN  [عرض, نجمة6, إنوي, أورونج, inwi, orange, المغر...   \n",
      "freq             NaN                                                  2   \n",
      "mean     3713.687500                                                NaN   \n",
      "min         1.000000                                                NaN   \n",
      "25%         3.750000                                                NaN   \n",
      "50%        68.500000                                                NaN   \n",
      "75%       250.500000                                                NaN   \n",
      "max     32954.000000                                                NaN   \n",
      "std      9039.898913                                                NaN   \n",
      "\n",
      "        mentions                                            caption  \\\n",
      "count         16                                                 16   \n",
      "unique         2                                                 15   \n",
      "top           []  #عرض #نجمة6 #إنوي #أورونج #inwi #orange #المغر...   \n",
      "freq          15                                                  2   \n",
      "mean         NaN                                                NaN   \n",
      "min          NaN                                                NaN   \n",
      "25%          NaN                                                NaN   \n",
      "50%          NaN                                                NaN   \n",
      "75%          NaN                                                NaN   \n",
      "max          NaN                                                NaN   \n",
      "std          NaN                                                NaN   \n",
      "\n",
      "        description  platform  brand_name         day       hour  \\\n",
      "count            16        16          16          16  16.000000   \n",
      "unique            1         1           1          12        NaN   \n",
      "top                  facebook        inwi  2025-05-30        NaN   \n",
      "freq             16        16          16           3        NaN   \n",
      "mean            NaN       NaN         NaN         NaN  14.812500   \n",
      "min             NaN       NaN         NaN         NaN   8.000000   \n",
      "25%             NaN       NaN         NaN         NaN  11.750000   \n",
      "50%             NaN       NaN         NaN         NaN  15.000000   \n",
      "75%             NaN       NaN         NaN         NaN  19.000000   \n",
      "max             NaN       NaN         NaN         NaN  21.000000   \n",
      "std             NaN       NaN         NaN         NaN   4.246077   \n",
      "\n",
      "       message_length  \n",
      "count       16.000000  \n",
      "unique            NaN  \n",
      "top               NaN  \n",
      "freq              NaN  \n",
      "mean       151.125000  \n",
      "min         38.000000  \n",
      "25%         72.750000  \n",
      "50%        105.000000  \n",
      "75%        196.750000  \n",
      "max        549.000000  \n",
      "std        124.990066  \n",
      "\n",
      "[11 rows x 26 columns]\n",
      "post_id                        object\n",
      "source_id                      object\n",
      "created_time      datetime64[ns, UTC]\n",
      "updated_time                   object\n",
      "permalink                      object\n",
      "page_id                        object\n",
      "page_name                      object\n",
      "message                        object\n",
      "media_type                     object\n",
      "media_url                      object\n",
      "thumbnail_url                  object\n",
      "can_share                        bool\n",
      "shares                          int64\n",
      "can_comment                      bool\n",
      "comments_count                  int64\n",
      "can_like                         bool\n",
      "like_count                      int64\n",
      "hashtags                       object\n",
      "mentions                       object\n",
      "caption                        object\n",
      "description                    object\n",
      "platform                       object\n",
      "brand_name                     object\n",
      "day                            object\n",
      "hour                            int32\n",
      "message_length                  int64\n",
      "dtype: object\n",
      "              post_id        source_id              created_time updated_time  \\\n",
      "0  122121254990821642   61574649282594 2025-05-30 15:04:46+00:00         None   \n",
      "1  122122629020830078   61574902357593 2025-05-30 12:14:17+00:00         None   \n",
      "2  122132009282803699   61574110991940 2025-05-26 11:06:00+00:00         None   \n",
      "3     990889506569076  100069441071037 2025-03-28 09:21:47+00:00         None   \n",
      "4    1245691934232994  100063765963695 2025-06-02 09:10:00+00:00         None   \n",
      "\n",
      "                                           permalink          page_id  \\\n",
      "0  https://www.facebook.com/permalink.php?story_f...   61574649282594   \n",
      "1    https://www.facebook.com/reel/1338753587220798/   61574902357593   \n",
      "2  https://www.facebook.com/61574110991940/videos...   61574110991940   \n",
      "3  https://www.facebook.com/permalink.php?story_f...  100069441071037   \n",
      "4     https://www.facebook.com/reel/594290693694779/  100063765963695   \n",
      "\n",
      "                   page_name  \\\n",
      "0          Mounir Technology   \n",
      "1            Charaf reaction   \n",
      "2  ياسين التقنية Yassin tech   \n",
      "3                Mim•One Pro   \n",
      "4          Electro Ait Ayach   \n",
      "\n",
      "                                             message media_type  \\\n",
      "0  تطبيق كيحول عرض نجمة 6 الى نجمة 3 على [إنوي و ...      PHOTO   \n",
      "1  أنترنت مجاني 🤑🔥😱\\n #أنترنت #أنترنت_مجاني #إنوي...     STATUS   \n",
      "2  #الجديد 👿 #تحويل #نجمة *6 #الى #نجمة *3  💪😱 #ت...     STATUS   \n",
      "3  #اتصالات_المغرب-#إنوي: شراكة كبرى\\n\\nلتسريع نش...     STATUS   \n",
      "4  🛑عرض نجمة 6 انوي رجع  متوفر✅اتصالات المغرب غير...     STATUS   \n",
      "\n",
      "                                           media_url  ... like_count  \\\n",
      "0  https://www.facebook.com/photo/?fbid=122121254...  ...         28   \n",
      "1                                               None  ...          3   \n",
      "2  https://www.facebook.com/61574110991940/videos...  ...         78   \n",
      "3                                               None  ...          2   \n",
      "4                                               None  ...        408   \n",
      "\n",
      "                                            hashtags  mentions  \\\n",
      "0         [إنوي, نجمة_6, تحويل, المغرب, تطبيق, inwi]        []   \n",
      "1  [أنترنت, أنترنت_مجاني, إنوي, إتصالات_المغرب, م...        []   \n",
      "2  [الجديد, تحويل, نجمة, الى, نجمة, تطبيق, جديد, ...        []   \n",
      "3         [اتصالات_المغرب, إنوي, Maroc_Telecom_Inwi]        []   \n",
      "4  [عرض, نجمة6, إنوي, أورونج, inwi, orange, المغر...        []   \n",
      "\n",
      "                                             caption  description  platform  \\\n",
      "0  تطبيق كيحول عرض نجمة 6 الى نجمة 3 على [إنوي و ...               facebook   \n",
      "1  أنترنت مجاني 🤑🔥😱\\n #أنترنت #أنترنت_مجاني #إنوي...               facebook   \n",
      "2  #الجديد 👿 #تحويل #نجمة *6 #الى #نجمة *3  💪😱 #ت...               facebook   \n",
      "3  #اتصالات_المغرب-#إنوي: شراكة كبرى\\n\\nلتسريع نش...               facebook   \n",
      "4  🛑عرض نجمة 6 انوي رجع  متوفر✅اتصالات المغرب غير...               facebook   \n",
      "\n",
      "   brand_name         day hour message_length  \n",
      "0        inwi  2025-05-30   15            236  \n",
      "1        inwi  2025-05-30   12            105  \n",
      "2        inwi  2025-05-26   11            549  \n",
      "3        inwi  2025-03-28    9            199  \n",
      "4        inwi  2025-06-02    9            139  \n",
      "\n",
      "[5 rows x 26 columns]\n",
      "16\n"
     ]
    }
   ],
   "source": [
    "#Aperçu général\n",
    "print(posts_df.describe(include='all'))\n",
    "print(posts_df.dtypes)\n",
    "print(posts_df.head())\n",
    "print(posts_df[\"post_id\"].nunique())"
   ]
  },
  {
   "cell_type": "code",
   "execution_count": 42,
   "metadata": {},
   "outputs": [
    {
     "data": {
      "image/png": "[encoded data removed]",
      "text/plain": [
       "<Figure size 800x400 with 1 Axes>"
      ]
     },
     "metadata": {},
     "output_type": "display_data"
    }
   ],
   "source": [
    "\n",
    "# 1. Histogramme des likes\n",
    "plt.figure(figsize=(8, 4))\n",
    "plt.hist(posts_df['like_count'], bins=20, color='orchid')\n",
    "plt.title(\"Distribution des likes par post\")\n",
    "plt.xlabel(\"Likes\")\n",
    "plt.ylabel(\"Nombre de posts\")\n",
    "plt.grid(True)\n",
    "plt.tight_layout()\n",
    "plt.show()"
   ]
  },
  {
   "cell_type": "code",
   "execution_count": 14,
   "metadata": {},
   "outputs": [
    {
     "data": {
      "image/png": "[encoded data removed]",
      "text/plain": [
       "<Figure size 800x400 with 1 Axes>"
      ]
     },
     "metadata": {},
     "output_type": "display_data"
    }
   ],
   "source": [
    "plt.figure(figsize=(8, 4))\n",
    "plt.hist(posts_df['comments_count'], bins=20, color='skyblue')\n",
    "plt.title(\"Distribution des commentaires par post\")\n",
    "plt.xlabel(\"Commentaires\")\n",
    "plt.ylabel(\"Nombre de posts\")\n",
    "plt.grid(True)\n",
    "plt.tight_layout()\n",
    "plt.show()"
   ]
  },
  {
   "cell_type": "code",
   "execution_count": 15,
   "metadata": {},
   "outputs": [
    {
     "name": "stdout",
     "output_type": "stream",
     "text": [
      "      month  count\n",
      "0   2024-07     12\n",
      "1   2024-08     17\n",
      "2   2024-09      6\n",
      "3   2024-10     13\n",
      "4   2024-11      6\n",
      "5   2024-12      7\n",
      "6   2025-01     10\n",
      "7   2025-02      5\n",
      "8   2025-03     11\n",
      "9   2025-04      5\n",
      "10  2025-05      5\n",
      "11  2025-06      3\n"
     ]
    },
    {
     "data": {
      "image/png": "[encoded data removed]",
      "text/plain": [
       "<Figure size 1000x500 with 1 Axes>"
      ]
     },
     "metadata": {},
     "output_type": "display_data"
    }
   ],
   "source": [
    "posts_df['month'] = posts_df['created_time'].dt.to_period('M').astype(str)\n",
    "\n",
    "# 3. Compter les posts par mois\n",
    "posts_per_month = posts_df.groupby('month').size().reset_index(name='count')\n",
    "\n",
    "# 4. Afficher les valeurs\n",
    "print(posts_per_month)\n",
    "\n",
    "# 5. Visualisation\n",
    "plt.figure(figsize=(10, 5))\n",
    "plt.bar(posts_per_month['month'], posts_per_month['count'], color='steelblue')\n",
    "plt.title(\"Nombre de posts par mois\")\n",
    "plt.xlabel(\"Mois\")\n",
    "plt.ylabel(\"Nombre de posts\")\n",
    "plt.xticks(rotation=45)\n",
    "plt.tight_layout()\n",
    "plt.show()"
   ]
  },
  {
   "cell_type": "code",
   "execution_count": 16,
   "metadata": {},
   "outputs": [
    {
     "data": {
      "image/png": "[encoded data removed]",
      "text/plain": [
       "<Figure size 800x400 with 1 Axes>"
      ]
     },
     "metadata": {},
     "output_type": "display_data"
    }
   ],
   "source": [
    "# Longueur des messages\n",
    "plt.figure(figsize=(8, 4))\n",
    "plt.hist(posts_df['message_length'], bins=30, color='tomato')\n",
    "plt.title(\"Longueur des messages\")\n",
    "plt.xlabel(\"Nombre de caractères\")\n",
    "plt.ylabel(\"Nombre de posts\")\n",
    "plt.tight_layout()\n",
    "plt.show()"
   ]
  },
  {
   "cell_type": "code",
   "execution_count": 21,
   "metadata": {},
   "outputs": [],
   "source": [
    "def parse_count(value):\n",
    "    if not value:\n",
    "        return 0\n",
    "    if isinstance(value, int):\n",
    "        return value\n",
    "    if isinstance(value, float):\n",
    "        return int(value)\n",
    "    value = str(value).strip().upper()\n",
    "    try:\n",
    "        if value.endswith('K') or value.endswith('k') :\n",
    "            return int(float(value[:-1]) * 1000)\n",
    "        elif value.endswith('M'):\n",
    "            return int(float(value[:-1]) * 1_000_000)\n",
    "        else:\n",
    "            return int(value)\n",
    "    except ValueError:\n",
    "        return 0"
   ]
  },
  {
   "cell_type": "code",
   "execution_count": 22,
   "metadata": {},
   "outputs": [
    {
     "name": "stdout",
     "output_type": "stream",
     "text": [
      "         comment_id                                            message  \\\n",
      "0  1234033491702046  مزال مهداكم الله تدوزو ليا واحد remboursement ...   \n",
      "1  4052044455046938  J'ai oublié mon mot de passe de mon compte win...   \n",
      "2  1924792288332814                                ‏عيد مبارك سعيد win   \n",
      "3  1052396893504978  Nass dwin jawboni ohllo lia lmochkil, ana oga3...   \n",
      "4  1657038488280678                        واش كاتخدمو سيمانة كاملة ؟؟   \n",
      "\n",
      "               created_time  like_count  reply_count  \\\n",
      "0 2025-06-07 10:33:26+00:00           1            2   \n",
      "1 2025-06-09 01:46:12+00:00           0            3   \n",
      "2 2025-06-07 10:55:15+00:00           0            0   \n",
      "3 2025-06-11 13:18:09+00:00           0            2   \n",
      "4 2025-06-07 11:39:20+00:00           0            1   \n",
      "\n",
      "                                             user_id            user_name  \\\n",
      "0  pfbid02DZ2U5yoWEC3RKmQzFff28Cd5MRRvyH6QUsLkBBC...  Abderrahim Marghich   \n",
      "1  pfbid0r6MipwSym1yake2nLbUWMhaM4qCCBiHkQj1gEpz3...       Abd Elhamdaoui   \n",
      "2                                    100021602716459    Abdlmajid Nassiri   \n",
      "3  pfbid0frh5uEi79JUwrwnJCgfpWAouZKfZD4Y4GAY4Rr8h...    Mouhssine Assaoud   \n",
      "4  pfbid02Q2TDFDdypSxmVJYWyZcbHkj2FJZz1qYUFuj2hUH...          Ahmed Amnay   \n",
      "\n",
      "                                         comment_url  comment_length  \\\n",
      "0  https://www.facebook.com/reel/1422500872098554...              64   \n",
      "1  https://www.facebook.com/reel/1422500872098554...             118   \n",
      "2  https://www.facebook.com/reel/1422500872098554...              19   \n",
      "3  https://www.facebook.com/reel/1422500872098554...             373   \n",
      "4  https://www.facebook.com/reel/1422500872098554...              27   \n",
      "\n",
      "   platform brand_name  \n",
      "0  facebook  winbyinwi  \n",
      "1  facebook  winbyinwi  \n",
      "2  facebook  winbyinwi  \n",
      "3  facebook  winbyinwi  \n",
      "4  facebook  winbyinwi  \n"
     ]
    }
   ],
   "source": [
    "all_comments = []\n",
    "\n",
    "for post in data:\n",
    "    comments = post.get('comments', [])\n",
    "    \n",
    "    if comments:\n",
    "        for comment in comments:\n",
    "            comment_flat = {\n",
    "                'comment_id': comment.get('comment_id', ''),\n",
    "                'message': comment.get('message', ''),\n",
    "                'created_time': comment.get('created_time', ''),\n",
    "                'like_count': parse_count(comment.get('like_count', 0)),\n",
    "                'reply_count': parse_count(comment.get('reply_count', 0)),\n",
    "                'user_id': comment.get('user_id', ''),\n",
    "                'user_name': comment.get('user_name', ''),\n",
    "                'comment_url': comment.get('comment_url', ''),\n",
    "                'comment_length': len(comment.get('message', '')),\n",
    "                'platform': comment.get('platform', ''),\n",
    "                'brand_name': comment.get('brand_name', '')\n",
    "            }\n",
    "            all_comments.append(comment_flat)\n",
    "\n",
    "comments_df = pd.DataFrame(all_comments)\n",
    "comments_df['created_time'] = pd.to_datetime(comments_df['created_time'], errors='coerce')\n",
    "\n",
    "print(comments_df.head())\n"
   ]
  },
  {
   "cell_type": "code",
   "execution_count": 23,
   "metadata": {},
   "outputs": [
    {
     "name": "stdout",
     "output_type": "stream",
     "text": [
      "<class 'pandas.core.frame.DataFrame'>\n",
      "RangeIndex: 6231 entries, 0 to 6230\n",
      "Data columns (total 11 columns):\n",
      " #   Column          Non-Null Count  Dtype              \n",
      "---  ------          --------------  -----              \n",
      " 0   comment_id      6231 non-null   object             \n",
      " 1   message         6231 non-null   object             \n",
      " 2   created_time    6231 non-null   datetime64[ns, UTC]\n",
      " 3   like_count      6231 non-null   int64              \n",
      " 4   reply_count     6231 non-null   int64              \n",
      " 5   user_id         6231 non-null   object             \n",
      " 6   user_name       6231 non-null   object             \n",
      " 7   comment_url     6231 non-null   object             \n",
      " 8   comment_length  6231 non-null   int64              \n",
      " 9   platform        6231 non-null   object             \n",
      " 10  brand_name      6231 non-null   object             \n",
      "dtypes: datetime64[ns, UTC](1), int64(3), object(7)\n",
      "memory usage: 535.6+ KB\n"
     ]
    }
   ],
   "source": [
    "comments_df.info()"
   ]
  },
  {
   "cell_type": "code",
   "execution_count": 24,
   "metadata": {},
   "outputs": [
    {
     "data": {
      "text/plain": [
       "6231"
      ]
     },
     "execution_count": 24,
     "metadata": {},
     "output_type": "execute_result"
    }
   ],
   "source": [
    "comments_df[\"comment_id\"].nunique()"
   ]
  },
  {
   "cell_type": "code",
   "execution_count": 25,
   "metadata": {},
   "outputs": [
    {
     "name": "stdout",
     "output_type": "stream",
     "text": [
      "Nombre de commentaires dupliqués : 0\n",
      "Empty DataFrame\n",
      "Columns: [comment_id, message, created_time]\n",
      "Index: []\n"
     ]
    }
   ],
   "source": [
    "# 1. Trouver les comment_id dupliqués\n",
    "duplicated_ids = comments_df['comment_id'][comments_df['comment_id'].duplicated()]\n",
    "\n",
    "# 2. Accéder aux lignes complètes avec ces comment_id\n",
    "duplicated_comments = comments_df[comments_df['comment_id'].isin(duplicated_ids)]\n",
    "\n",
    "# 3. Afficher les résultats\n",
    "print(f\"Nombre de commentaires dupliqués : {duplicated_comments.shape[0]}\")\n",
    "print(duplicated_comments[['comment_id', 'message', 'created_time']])\n"
   ]
  },
  {
   "cell_type": "code",
   "execution_count": 26,
   "metadata": {},
   "outputs": [
    {
     "name": "stdout",
     "output_type": "stream",
     "text": [
      "(6231, 11)\n",
      "comment_id                     object\n",
      "message                        object\n",
      "created_time      datetime64[ns, UTC]\n",
      "like_count                      int64\n",
      "reply_count                     int64\n",
      "user_id                        object\n",
      "user_name                      object\n",
      "comment_url                    object\n",
      "comment_length                  int64\n",
      "platform                       object\n",
      "brand_name                     object\n",
      "dtype: object\n"
     ]
    },
    {
     "data": {
      "text/html": [
       "<div>\n",
       "<style scoped>\n",
       "    .dataframe tbody tr th:only-of-type {\n",
       "        vertical-align: middle;\n",
       "    }\n",
       "\n",
       "    .dataframe tbody tr th {\n",
       "        vertical-align: top;\n",
       "    }\n",
       "\n",
       "    .dataframe thead th {\n",
       "        text-align: right;\n",
       "    }\n",
       "</style>\n",
       "<table border=\"1\" class=\"dataframe\">\n",
       "  <thead>\n",
       "    <tr style=\"text-align: right;\">\n",
       "      <th></th>\n",
       "      <th>comment_id</th>\n",
       "      <th>message</th>\n",
       "      <th>created_time</th>\n",
       "      <th>like_count</th>\n",
       "      <th>reply_count</th>\n",
       "      <th>user_id</th>\n",
       "      <th>user_name</th>\n",
       "      <th>comment_url</th>\n",
       "      <th>comment_length</th>\n",
       "      <th>platform</th>\n",
       "      <th>brand_name</th>\n",
       "    </tr>\n",
       "  </thead>\n",
       "  <tbody>\n",
       "    <tr>\n",
       "      <th>0</th>\n",
       "      <td>1234033491702046</td>\n",
       "      <td>مزال مهداكم الله تدوزو ليا واحد remboursement ...</td>\n",
       "      <td>2025-06-07 10:33:26+00:00</td>\n",
       "      <td>1</td>\n",
       "      <td>2</td>\n",
       "      <td>pfbid02DZ2U5yoWEC3RKmQzFff28Cd5MRRvyH6QUsLkBBC...</td>\n",
       "      <td>Abderrahim Marghich</td>\n",
       "      <td>https://www.facebook.com/reel/1422500872098554...</td>\n",
       "      <td>64</td>\n",
       "      <td>facebook</td>\n",
       "      <td>winbyinwi</td>\n",
       "    </tr>\n",
       "    <tr>\n",
       "      <th>1</th>\n",
       "      <td>4052044455046938</td>\n",
       "      <td>J'ai oublié mon mot de passe de mon compte win...</td>\n",
       "      <td>2025-06-09 01:46:12+00:00</td>\n",
       "      <td>0</td>\n",
       "      <td>3</td>\n",
       "      <td>pfbid0r6MipwSym1yake2nLbUWMhaM4qCCBiHkQj1gEpz3...</td>\n",
       "      <td>Abd Elhamdaoui</td>\n",
       "      <td>https://www.facebook.com/reel/1422500872098554...</td>\n",
       "      <td>118</td>\n",
       "      <td>facebook</td>\n",
       "      <td>winbyinwi</td>\n",
       "    </tr>\n",
       "    <tr>\n",
       "      <th>2</th>\n",
       "      <td>1924792288332814</td>\n",
       "      <td>‏عيد مبارك سعيد win</td>\n",
       "      <td>2025-06-07 10:55:15+00:00</td>\n",
       "      <td>0</td>\n",
       "      <td>0</td>\n",
       "      <td>100021602716459</td>\n",
       "      <td>Abdlmajid Nassiri</td>\n",
       "      <td>https://www.facebook.com/reel/1422500872098554...</td>\n",
       "      <td>19</td>\n",
       "      <td>facebook</td>\n",
       "      <td>winbyinwi</td>\n",
       "    </tr>\n",
       "    <tr>\n",
       "      <th>3</th>\n",
       "      <td>1052396893504978</td>\n",
       "      <td>Nass dwin jawboni ohllo lia lmochkil, ana oga3...</td>\n",
       "      <td>2025-06-11 13:18:09+00:00</td>\n",
       "      <td>0</td>\n",
       "      <td>2</td>\n",
       "      <td>pfbid0frh5uEi79JUwrwnJCgfpWAouZKfZD4Y4GAY4Rr8h...</td>\n",
       "      <td>Mouhssine Assaoud</td>\n",
       "      <td>https://www.facebook.com/reel/1422500872098554...</td>\n",
       "      <td>373</td>\n",
       "      <td>facebook</td>\n",
       "      <td>winbyinwi</td>\n",
       "    </tr>\n",
       "    <tr>\n",
       "      <th>4</th>\n",
       "      <td>1657038488280678</td>\n",
       "      <td>واش كاتخدمو سيمانة كاملة ؟؟</td>\n",
       "      <td>2025-06-07 11:39:20+00:00</td>\n",
       "      <td>0</td>\n",
       "      <td>1</td>\n",
       "      <td>pfbid02Q2TDFDdypSxmVJYWyZcbHkj2FJZz1qYUFuj2hUH...</td>\n",
       "      <td>Ahmed Amnay</td>\n",
       "      <td>https://www.facebook.com/reel/1422500872098554...</td>\n",
       "      <td>27</td>\n",
       "      <td>facebook</td>\n",
       "      <td>winbyinwi</td>\n",
       "    </tr>\n",
       "  </tbody>\n",
       "</table>\n",
       "</div>"
      ],
      "text/plain": [
       "         comment_id                                            message  \\\n",
       "0  1234033491702046  مزال مهداكم الله تدوزو ليا واحد remboursement ...   \n",
       "1  4052044455046938  J'ai oublié mon mot de passe de mon compte win...   \n",
       "2  1924792288332814                                ‏عيد مبارك سعيد win   \n",
       "3  1052396893504978  Nass dwin jawboni ohllo lia lmochkil, ana oga3...   \n",
       "4  1657038488280678                        واش كاتخدمو سيمانة كاملة ؟؟   \n",
       "\n",
       "               created_time  like_count  reply_count  \\\n",
       "0 2025-06-07 10:33:26+00:00           1            2   \n",
       "1 2025-06-09 01:46:12+00:00           0            3   \n",
       "2 2025-06-07 10:55:15+00:00           0            0   \n",
       "3 2025-06-11 13:18:09+00:00           0            2   \n",
       "4 2025-06-07 11:39:20+00:00           0            1   \n",
       "\n",
       "                                             user_id            user_name  \\\n",
       "0  pfbid02DZ2U5yoWEC3RKmQzFff28Cd5MRRvyH6QUsLkBBC...  Abderrahim Marghich   \n",
       "1  pfbid0r6MipwSym1yake2nLbUWMhaM4qCCBiHkQj1gEpz3...       Abd Elhamdaoui   \n",
       "2                                    100021602716459    Abdlmajid Nassiri   \n",
       "3  pfbid0frh5uEi79JUwrwnJCgfpWAouZKfZD4Y4GAY4Rr8h...    Mouhssine Assaoud   \n",
       "4  pfbid02Q2TDFDdypSxmVJYWyZcbHkj2FJZz1qYUFuj2hUH...          Ahmed Amnay   \n",
       "\n",
       "                                         comment_url  comment_length  \\\n",
       "0  https://www.facebook.com/reel/1422500872098554...              64   \n",
       "1  https://www.facebook.com/reel/1422500872098554...             118   \n",
       "2  https://www.facebook.com/reel/1422500872098554...              19   \n",
       "3  https://www.facebook.com/reel/1422500872098554...             373   \n",
       "4  https://www.facebook.com/reel/1422500872098554...              27   \n",
       "\n",
       "   platform brand_name  \n",
       "0  facebook  winbyinwi  \n",
       "1  facebook  winbyinwi  \n",
       "2  facebook  winbyinwi  \n",
       "3  facebook  winbyinwi  \n",
       "4  facebook  winbyinwi  "
      ]
     },
     "execution_count": 26,
     "metadata": {},
     "output_type": "execute_result"
    }
   ],
   "source": [
    "print(comments_df.shape)\n",
    "print(comments_df.dtypes)\n",
    "comments_df.head()"
   ]
  },
  {
   "cell_type": "code",
   "execution_count": 28,
   "metadata": {},
   "outputs": [
    {
     "data": {
      "image/png": "[encoded data removed]",
      "text/plain": [
       "<Figure size 800x400 with 1 Axes>"
      ]
     },
     "metadata": {},
     "output_type": "display_data"
    }
   ],
   "source": [
    "\n",
    "plt.figure(figsize=(8,4))\n",
    "sns.histplot(comments_df['comment_length'], bins=30, kde=True)\n",
    "plt.title(\"Distribution de la longueur des commentaires\")\n",
    "plt.xlabel(\"Nombre de caractères\")\n",
    "plt.ylabel(\"Fréquence\")\n",
    "plt.show()"
   ]
  },
  {
   "cell_type": "code",
   "execution_count": 30,
   "metadata": {},
   "outputs": [
    {
     "name": "stdout",
     "output_type": "stream",
     "text": [
      "Bonjour\n",
      "\n",
      " Je suis un client chez vous depuis 2021. J'ai presque jamais eu recours à votre assistance en chat jusqu'à hier. J'ai eu un problème d'accès à internet et j'ai pris contact avec une conseillère dénommée AYA. La dame n'a fait que me faire balader durant un long moment (plus de 45min) avec des questions qui n'ont rien à voir avec ma demande d'assistance, tout cela pour boucler sa journée de travail qui prend fin à 22h mettre fin de sa part à la soit disant l'assistance. Je vous envoie ci-joint les screenshots de la conversation pour en juger de vous même. Dans les pires cas de demande d'assistance je n'ai était pris pour un retardé mental tel que j'ai était traité hier soir (11/01/2025) et c'est la première fois de ma vie que je dépose une réclamation suite à une très mauvais traitement de ma personne et de ma demande en tant que client.\n",
      "\n",
      "L'image de votre société et des service qu'elle fournit sera surement terni par de tel enfantillages qui ne font ni résoudre les demandes des clients, ni respecter l'entité des clients qui y ont recours.\n"
     ]
    }
   ],
   "source": [
    "message = comments_df[comments_df[\"comment_length\"] > 1000][\"message\"].iloc[0]\n",
    "print(message)\n"
   ]
  },
  {
   "cell_type": "code",
   "execution_count": 31,
   "metadata": {},
   "outputs": [
    {
     "name": "stdout",
     "output_type": "stream",
     "text": [
      "🧪 Champs texte vides (commentaires) :\n",
      " - comment_id: 0 lignes vides\n",
      " - user_id: 0 lignes vides\n",
      " - user_name: 0 lignes vides\n",
      " - message: 390 lignes vides\n",
      " - created_time: 0 lignes vides\n",
      "\n",
      "🕒 Vérification des timestamps invalides (commentaires) :\n",
      " - created_time non valides : 0\n",
      "\n",
      "🔁 Valeurs uniques booléennes (commentaires) :\n",
      "\n",
      "🔢 Champs numériques avec des zéros (commentaires) :\n",
      " - like_count == 0 : 5036 lignes\n",
      " - reply_count == 0 : 3932 lignes\n",
      "\n",
      "📚 Vérification des champs listes (commentaires) :\n"
     ]
    }
   ],
   "source": [
    "# 1. Colonnes texte à vérifier (adapter selon les colonnes disponibles dans comments_df)\n",
    "text_fields = [\n",
    "    \"comment_id\", \"user_id\", \"user_name\", \"message\", \"created_time\"\n",
    "]\n",
    "\n",
    "print(\"🧪 Champs texte vides (commentaires) :\")\n",
    "for col in text_fields:\n",
    "    empty_count = (comments_df[col].astype(str).str.strip() == '').sum()\n",
    "    print(f\" - {col}: {empty_count} lignes vides\")\n",
    "\n",
    "# 2. Vérification created_time valide\n",
    "print(\"\\n🕒 Vérification des timestamps invalides (commentaires) :\")\n",
    "invalid_dates = pd.to_datetime(comments_df[\"created_time\"], errors=\"coerce\").isna().sum()\n",
    "print(f\" - created_time non valides : {invalid_dates}\")\n",
    "\n",
    "# 3. Valeurs uniques des booléens (si existent, ex: can_like, peut être adapté à ton cas)\n",
    "bool_fields = [col for col in [\"can_like\"] if col in comments_df.columns]\n",
    "\n",
    "print(\"\\n🔁 Valeurs uniques booléennes (commentaires) :\")\n",
    "for col in bool_fields:\n",
    "    print(f\" - {col}: {comments_df[col].nunique()} valeurs uniques ({comments_df[col].unique()})\")\n",
    "\n",
    "# 4. Champs numériques : valeurs à 0\n",
    "numeric_fields = [col for col in [\"like_count\", \"reply_count\"] if col in comments_df.columns]\n",
    "\n",
    "print(\"\\n🔢 Champs numériques avec des zéros (commentaires) :\")\n",
    "for col in numeric_fields:\n",
    "    zero_count = (comments_df[col] == 0).sum()\n",
    "    print(f\" - {col} == 0 : {zero_count} lignes\")\n",
    "\n",
    "# 5. Listes : hashtags et mentions dans les commentaires (si présents)\n",
    "list_fields = [col for col in [\"hashtags\", \"mentions\"] if col in comments_df.columns]\n",
    "\n",
    "print(\"\\n📚 Vérification des champs listes (commentaires) :\")\n",
    "for col in list_fields:\n",
    "    non_lists = comments_df[~comments_df[col].apply(lambda x: isinstance(x, list))].shape[0]\n",
    "    empty_lists = comments_df[comments_df[col].apply(lambda x: isinstance(x, list) and len(x) == 0)].shape[0]\n",
    "    print(f\" - {col} : {non_lists} non-listes / {empty_lists} listes vides\")"
   ]
  }
 ],
 "metadata": {
  "kernelspec": {
   "display_name": "Python 3",
   "language": "python",
   "name": "python3"
  },
  "language_info": {
   "codemirror_mode": {
    "name": "ipython",
    "version": 3
   },
   "file_extension": ".py",
   "mimetype": "text/x-python",
   "name": "python",
   "nbconvert_exporter": "python",
   "pygments_lexer": "ipython3",
   "version": "3.10.12"
  }
 },
 "nbformat": 4,
 "nbformat_minor": 2
}
