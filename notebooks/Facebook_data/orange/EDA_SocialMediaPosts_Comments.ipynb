{
 "cells": [
  {
   "cell_type": "code",
   "execution_count": 2,
   "metadata": {},
   "outputs": [],
   "source": [
    "import pandas as pd\n",
    "import matplotlib.pyplot as plt\n",
    "import numpy as np\n",
    "import json\n",
    "import seaborn as sns"
   ]
  },
  {
   "cell_type": "markdown",
   "metadata": {},
   "source": [
    "# Facebook _data_orange"
   ]
  },
  {
   "cell_type": "code",
   "execution_count": 3,
   "metadata": {},
   "outputs": [],
   "source": [
    "with open('../../../data/official_pages/facebook_data_backup/orangemaroc_facebook_posts_with_comments_20250602_002729.json', 'r', encoding='utf-8') as f:\n",
    "    data = json.load(f)[\"data\"]"
   ]
  },
  {
   "cell_type": "code",
   "execution_count": 4,
   "metadata": {},
   "outputs": [
    {
     "name": "stdout",
     "output_type": "stream",
     "text": [
      "Type des données chargées : <class 'list'>\n"
     ]
    }
   ],
   "source": [
    "print(f\"Type des données chargées : {type(data)}\")"
   ]
  },
  {
   "cell_type": "code",
   "execution_count": 5,
   "metadata": {},
   "outputs": [],
   "source": [
    "posts_df = pd.DataFrame(data if isinstance(data, list) else [data])\n",
    "if 'comments' in posts_df.columns:\n",
    "    posts_df = posts_df.drop(columns=['comments'])\n",
    "\n",
    "#Convertir created_time en datetime\n",
    "posts_df['created_time'] = pd.to_datetime(posts_df['created_time'])"
   ]
  },
  {
   "cell_type": "code",
   "execution_count": 6,
   "metadata": {},
   "outputs": [
    {
     "name": "stdout",
     "output_type": "stream",
     "text": [
      "<class 'pandas.core.frame.DataFrame'>\n",
      "RangeIndex: 100 entries, 0 to 99\n",
      "Data columns (total 23 columns):\n",
      " #   Column               Non-Null Count  Dtype         \n",
      "---  ------               --------------  -----         \n",
      " 0   post_id              100 non-null    object        \n",
      " 1   source_id            100 non-null    object        \n",
      " 2   created_time         100 non-null    datetime64[ns]\n",
      " 3   permalink            100 non-null    object        \n",
      " 4   page_id              100 non-null    object        \n",
      " 5   page_name            100 non-null    object        \n",
      " 6   message              100 non-null    object        \n",
      " 7   media_type           100 non-null    object        \n",
      " 8   media_url            100 non-null    object        \n",
      " 9   thumbnail_url        100 non-null    object        \n",
      " 10  can_share            100 non-null    bool          \n",
      " 11  shares               100 non-null    int64         \n",
      " 12  can_comment          100 non-null    bool          \n",
      " 13  comments_count       100 non-null    int64         \n",
      " 14  can_like             100 non-null    bool          \n",
      " 15  like_count           100 non-null    int64         \n",
      " 16  hashtags             100 non-null    object        \n",
      " 17  mentions             100 non-null    object        \n",
      " 18  platform             100 non-null    object        \n",
      " 19  brand_name           100 non-null    object        \n",
      " 20  kafka_metadata       100 non-null    object        \n",
      " 21  collection_metadata  100 non-null    object        \n",
      " 22  statistics           100 non-null    object        \n",
      "dtypes: bool(3), datetime64[ns](1), int64(3), object(16)\n",
      "memory usage: 16.0+ KB\n"
     ]
    }
   ],
   "source": [
    "posts_df.info()"
   ]
  },
  {
   "cell_type": "code",
   "execution_count": 7,
   "metadata": {},
   "outputs": [
    {
     "data": {
      "text/plain": [
       "post_id                0\n",
       "source_id              0\n",
       "created_time           0\n",
       "permalink              0\n",
       "page_id                0\n",
       "page_name              0\n",
       "message                0\n",
       "media_type             0\n",
       "media_url              0\n",
       "thumbnail_url          0\n",
       "can_share              0\n",
       "shares                 0\n",
       "can_comment            0\n",
       "comments_count         0\n",
       "can_like               0\n",
       "like_count             0\n",
       "hashtags               0\n",
       "mentions               0\n",
       "platform               0\n",
       "brand_name             0\n",
       "kafka_metadata         0\n",
       "collection_metadata    0\n",
       "statistics             0\n",
       "dtype: int64"
      ]
     },
     "execution_count": 7,
     "metadata": {},
     "output_type": "execute_result"
    }
   ],
   "source": [
    "posts_df.isnull().sum()"
   ]
  },
  {
   "cell_type": "code",
   "execution_count": 9,
   "metadata": {},
   "outputs": [
    {
     "name": "stdout",
     "output_type": "stream",
     "text": [
      "🧪 Champs texte vides :\n",
      " - post_id: 0 lignes vides\n",
      " - source_id: 0 lignes vides\n",
      " - created_time: 0 lignes vides\n",
      " - permalink: 0 lignes vides\n",
      " - page_id: 0 lignes vides\n",
      " - page_name: 0 lignes vides\n",
      " - message: 1 lignes vides\n",
      " - media_type: 4 lignes vides\n",
      " - media_url: 7 lignes vides\n",
      " - thumbnail_url: 4 lignes vides\n",
      "\n",
      "🕒 Vérification des timestamps invalides :\n",
      " - created_time non valides : 0\n",
      "\n",
      "🔁 Valeurs uniques booléennes :\n",
      " - can_share: 1 valeurs uniques ([ True])\n",
      " - can_comment: 1 valeurs uniques ([ True])\n",
      "\n",
      "🔢 Champs numériques avec des zéros :\n",
      " - shares == 0 : 0 lignes\n",
      " - comments_count == 0 : 0 lignes\n",
      " - like_count == 0 : 0 lignes\n",
      "\n",
      "📚 Vérification des champs listes :\n",
      " - hashtags : 0 non-listes / 14 listes vides\n",
      " - mentions : 0 non-listes / 100 listes vides\n"
     ]
    }
   ],
   "source": [
    "\n",
    "# 1. Colonnes à vérifier pour présence de chaînes vides\n",
    "text_fields = [\n",
    "    \"post_id\", \"source_id\", \"created_time\", \"permalink\", \"page_id\",\n",
    "    \"page_name\", \"message\", \"media_type\", \"media_url\", \"thumbnail_url\"\n",
    "]\n",
    "\n",
    "print(\"🧪 Champs texte vides :\")\n",
    "for col in text_fields:\n",
    "    empty_count = (posts_df[col].astype(str).str.strip() == '').sum()\n",
    "    print(f\" - {col}: {empty_count} lignes vides\")\n",
    "\n",
    "# 2. Vérification created_time valide\n",
    "print(\"\\n🕒 Vérification des timestamps invalides :\")\n",
    "invalid_dates = pd.to_datetime(posts_df[\"created_time\"], errors=\"coerce\").isna().sum()\n",
    "print(f\" - created_time non valides : {invalid_dates}\")\n",
    "\n",
    "# 3. Valeurs uniques des booléens\n",
    "print(\"\\n🔁 Valeurs uniques booléennes :\")\n",
    "for col in [\"can_share\", \"can_comment\"]:\n",
    "    print(f\" - {col}: {posts_df[col].nunique()} valeurs uniques ({posts_df[col].unique()})\")\n",
    "\n",
    "# 4. Champs numériques à 0\n",
    "print(\"\\n🔢 Champs numériques avec des zéros :\")\n",
    "for col in [\"shares\", \"comments_count\", \"like_count\"]:\n",
    "    zero_count = (posts_df[col] == 0).sum()\n",
    "    print(f\" - {col} == 0 : {zero_count} lignes\")\n",
    "\n",
    "# 5. Listes : type check et nombre de listes vides\n",
    "print(\"\\n📚 Vérification des champs listes :\")\n",
    "for col in [\"hashtags\", \"mentions\"]:\n",
    "    non_lists = posts_df[~posts_df[col].apply(lambda x: isinstance(x, list))].shape[0]\n",
    "    empty_lists = posts_df[posts_df[col].apply(lambda x: isinstance(x, list) and len(x) == 0)].shape[0]\n",
    "    print(f\" - {col} : {non_lists} non-listes / {empty_lists} listes vides\")"
   ]
  },
  {
   "cell_type": "code",
   "execution_count": 10,
   "metadata": {},
   "outputs": [],
   "source": [
    "posts_df = posts_df.drop(columns=[\"kafka_metadata\", \"collection_metadata\", \"statistics\"])"
   ]
  },
  {
   "cell_type": "code",
   "execution_count": 11,
   "metadata": {},
   "outputs": [],
   "source": [
    " #Ajouter des colonnes utiles\n",
    "posts_df['day'] = posts_df['created_time'].dt.date\n",
    "posts_df['hour'] = posts_df['created_time'].dt.hour\n",
    "posts_df['message_length'] = posts_df['message'].fillna('').apply(len)"
   ]
  },
  {
   "cell_type": "code",
   "execution_count": 12,
   "metadata": {},
   "outputs": [
    {
     "name": "stdout",
     "output_type": "stream",
     "text": [
      "                 post_id        source_id                   created_time  \\\n",
      "count                100              100                            100   \n",
      "unique               100                1                            NaN   \n",
      "top     1093948522770550  100064662374992                            NaN   \n",
      "freq                   1              100                            NaN   \n",
      "mean                 NaN              NaN  2025-03-20 01:38:01.169999872   \n",
      "min                  NaN              NaN            2025-01-24 13:33:30   \n",
      "25%                  NaN              NaN  2025-02-26 11:14:18.750000128   \n",
      "50%                  NaN              NaN     2025-03-19 15:10:45.500000   \n",
      "75%                  NaN              NaN  2025-04-13 07:01:10.750000128   \n",
      "max                  NaN              NaN            2025-05-28 15:20:10   \n",
      "std                  NaN              NaN                            NaN   \n",
      "\n",
      "                                                permalink          page_id  \\\n",
      "count                                                 100              100   \n",
      "unique                                                100                1   \n",
      "top     https://www.facebook.com/orangemaroc/posts/109...  100064662374992   \n",
      "freq                                                    1              100   \n",
      "mean                                                  NaN              NaN   \n",
      "min                                                   NaN              NaN   \n",
      "25%                                                   NaN              NaN   \n",
      "50%                                                   NaN              NaN   \n",
      "75%                                                   NaN              NaN   \n",
      "max                                                   NaN              NaN   \n",
      "std                                                   NaN              NaN   \n",
      "\n",
      "          page_name                                            message  \\\n",
      "count           100                                                100   \n",
      "unique            1                                                100   \n",
      "top     orangemaroc  الدار البيضاء، هاحنا جينا ⚽🧡\\n\\nبقاو متبعين مع...   \n",
      "freq            100                                                  1   \n",
      "mean            NaN                                                NaN   \n",
      "min             NaN                                                NaN   \n",
      "25%             NaN                                                NaN   \n",
      "50%             NaN                                                NaN   \n",
      "75%             NaN                                                NaN   \n",
      "max             NaN                                                NaN   \n",
      "std             NaN                                                NaN   \n",
      "\n",
      "       media_type media_url thumbnail_url  ... comments_count  can_like  \\\n",
      "count         100       100           100  ...     100.000000       100   \n",
      "unique          4        94            97  ...            NaN         1   \n",
      "top         Video                          ...            NaN      True   \n",
      "freq           60         7             4  ...            NaN       100   \n",
      "mean          NaN       NaN           NaN  ...     758.860000       NaN   \n",
      "min           NaN       NaN           NaN  ...      45.000000       NaN   \n",
      "25%           NaN       NaN           NaN  ...     152.500000       NaN   \n",
      "50%           NaN       NaN           NaN  ...     352.500000       NaN   \n",
      "75%           NaN       NaN           NaN  ...     840.500000       NaN   \n",
      "max           NaN       NaN           NaN  ...    9783.000000       NaN   \n",
      "std           NaN       NaN           NaN  ...    1251.200143       NaN   \n",
      "\n",
      "          like_count       hashtags mentions  platform   brand_name  \\\n",
      "count     100.000000            100      100       100          100   \n",
      "unique           NaN              8        1         1            1   \n",
      "top              NaN  [OrangeKayna]       []  facebook  orangemaroc   \n",
      "freq             NaN             77      100       100          100   \n",
      "mean     3996.080000            NaN      NaN       NaN          NaN   \n",
      "min        76.000000            NaN      NaN       NaN          NaN   \n",
      "25%       511.000000            NaN      NaN       NaN          NaN   \n",
      "50%      1456.000000            NaN      NaN       NaN          NaN   \n",
      "75%      4819.750000            NaN      NaN       NaN          NaN   \n",
      "max     41717.000000            NaN      NaN       NaN          NaN   \n",
      "std      6596.839958            NaN      NaN       NaN          NaN   \n",
      "\n",
      "               day       hour message_length  \n",
      "count          100  100.00000     100.000000  \n",
      "unique          65        NaN            NaN  \n",
      "top     2025-03-23        NaN            NaN  \n",
      "freq             5        NaN            NaN  \n",
      "mean           NaN   13.63000     155.390000  \n",
      "min            NaN    8.00000       0.000000  \n",
      "25%            NaN   10.00000     115.000000  \n",
      "50%            NaN   13.00000     139.000000  \n",
      "75%            NaN   16.00000     189.750000  \n",
      "max            NaN   23.00000     394.000000  \n",
      "std            NaN    3.94573      75.485887  \n",
      "\n",
      "[11 rows x 23 columns]\n",
      "post_id                   object\n",
      "source_id                 object\n",
      "created_time      datetime64[ns]\n",
      "permalink                 object\n",
      "page_id                   object\n",
      "page_name                 object\n",
      "message                   object\n",
      "media_type                object\n",
      "media_url                 object\n",
      "thumbnail_url             object\n",
      "can_share                   bool\n",
      "shares                     int64\n",
      "can_comment                 bool\n",
      "comments_count             int64\n",
      "can_like                    bool\n",
      "like_count                 int64\n",
      "hashtags                  object\n",
      "mentions                  object\n",
      "platform                  object\n",
      "brand_name                object\n",
      "day                       object\n",
      "hour                       int32\n",
      "message_length             int64\n",
      "dtype: object\n",
      "            post_id        source_id        created_time  \\\n",
      "0  1093948522770550  100064662374992 2025-05-28 15:20:10   \n",
      "1  1092369309595138  100064662374992 2025-05-26 11:53:26   \n",
      "2  1091642369667832  100064662374992 2025-05-25 13:14:02   \n",
      "3  1089423089889760  100064662374992 2025-05-22 13:42:04   \n",
      "4  1088660396632696  100064662374992 2025-05-21 14:44:35   \n",
      "\n",
      "                                           permalink          page_id  \\\n",
      "0  https://www.facebook.com/orangemaroc/posts/109...  100064662374992   \n",
      "1  https://www.facebook.com/orangemaroc/posts/109...  100064662374992   \n",
      "2  https://www.facebook.com/orangemaroc/posts/109...  100064662374992   \n",
      "3  https://www.facebook.com/orangemaroc/posts/108...  100064662374992   \n",
      "4  https://www.facebook.com/orangemaroc/posts/108...  100064662374992   \n",
      "\n",
      "     page_name                                            message media_type  \\\n",
      "0  orangemaroc  الدار البيضاء، هاحنا جينا ⚽🧡\\n\\nبقاو متبعين مع...      Video   \n",
      "1  orangemaroc  بغيتي تشري UC ديال PUBG بكل سهولة ؟💰 أورنج جاب...      Video   \n",
      "2  orangemaroc               كل عام وجميع أمهات العالم بألف خير 🧡      Photo   \n",
      "3  orangemaroc  استافدو من شهر كامل ديال اللامحدود على مواقع ا...      Video   \n",
      "4  orangemaroc  تبعونا باش تكتاشفو المراحل الجهوية ديال Orange...      Video   \n",
      "\n",
      "                                           media_url  \\\n",
      "0    https://www.facebook.com/reel/1000104032207886/   \n",
      "1    https://www.facebook.com/reel/1761003661183691/   \n",
      "2  https://www.facebook.com/photo/?fbid=109164220...   \n",
      "3   https://www.facebook.com/reel/24069354789335744/   \n",
      "4    https://www.facebook.com/reel/1402885001060523/   \n",
      "\n",
      "                                       thumbnail_url  ...  comments_count  \\\n",
      "0  https://scontent-atl3-1.xx.fbcdn.net/v/t15.525...  ...             887   \n",
      "1  https://scontent-atl3-1.xx.fbcdn.net/v/t15.525...  ...             623   \n",
      "2  https://scontent-atl3-2.xx.fbcdn.net/v/t39.308...  ...             408   \n",
      "3  https://scontent-sea1-1.xx.fbcdn.net/v/t15.525...  ...            2607   \n",
      "4  https://scontent-sea1-1.xx.fbcdn.net/v/t15.525...  ...             335   \n",
      "\n",
      "   can_like  like_count       hashtags  mentions  platform   brand_name  \\\n",
      "0      True        2084  [OrangeKayna]        []  facebook  orangemaroc   \n",
      "1      True         752  [OrangeKayna]        []  facebook  orangemaroc   \n",
      "2      True         620             []        []  facebook  orangemaroc   \n",
      "3      True        9270  [OrangeKayna]        []  facebook  orangemaroc   \n",
      "4      True        9333             []        []  facebook  orangemaroc   \n",
      "\n",
      "          day hour message_length  \n",
      "0  2025-05-28   15            135  \n",
      "1  2025-05-26   11            132  \n",
      "2  2025-05-25   13             36  \n",
      "3  2025-05-22   13            119  \n",
      "4  2025-05-21   14             80  \n",
      "\n",
      "[5 rows x 23 columns]\n",
      "100\n"
     ]
    }
   ],
   "source": [
    "#Aperçu général\n",
    "print(posts_df.describe(include='all'))\n",
    "print(posts_df.dtypes)\n",
    "print(posts_df.head())\n",
    "print(posts_df[\"post_id\"].nunique())"
   ]
  },
  {
   "cell_type": "code",
   "execution_count": 13,
   "metadata": {},
   "outputs": [
    {
     "data": {
      "image/png": "[encoded data removed]",
      "text/plain": [
       "<Figure size 800x400 with 1 Axes>"
      ]
     },
     "metadata": {},
     "output_type": "display_data"
    }
   ],
   "source": [
    "\n",
    "# 1. Histogramme des likes\n",
    "plt.figure(figsize=(8, 4))\n",
    "plt.hist(posts_df['like_count'], bins=20, color='orchid')\n",
    "plt.title(\"Distribution des likes par post\")\n",
    "plt.xlabel(\"Likes\")\n",
    "plt.ylabel(\"Nombre de posts\")\n",
    "plt.grid(True)\n",
    "plt.tight_layout()\n",
    "plt.show()"
   ]
  },
  {
   "cell_type": "code",
   "execution_count": 14,
   "metadata": {},
   "outputs": [
    {
     "data": {
      "image/png": "[encoded data removed]",
      "text/plain": [
       "<Figure size 800x400 with 1 Axes>"
      ]
     },
     "metadata": {},
     "output_type": "display_data"
    }
   ],
   "source": [
    "plt.figure(figsize=(8, 4))\n",
    "plt.hist(posts_df['comments_count'], bins=20, color='skyblue')\n",
    "plt.title(\"Distribution des commentaires par post\")\n",
    "plt.xlabel(\"Commentaires\")\n",
    "plt.ylabel(\"Nombre de posts\")\n",
    "plt.grid(True)\n",
    "plt.tight_layout()\n",
    "plt.show()"
   ]
  },
  {
   "cell_type": "code",
   "execution_count": 15,
   "metadata": {},
   "outputs": [
    {
     "name": "stdout",
     "output_type": "stream",
     "text": [
      "     month  count\n",
      "0  2025-01      8\n",
      "1  2025-02     21\n",
      "2  2025-03     40\n",
      "3  2025-04     20\n",
      "4  2025-05     11\n"
     ]
    },
    {
     "data": {
      "image/png": "[encoded data removed]",
      "text/plain": [
       "<Figure size 1000x500 with 1 Axes>"
      ]
     },
     "metadata": {},
     "output_type": "display_data"
    }
   ],
   "source": [
    "posts_df['month'] = posts_df['created_time'].dt.to_period('M').astype(str)\n",
    "\n",
    "# 3. Compter les posts par mois\n",
    "posts_per_month = posts_df.groupby('month').size().reset_index(name='count')\n",
    "\n",
    "# 4. Afficher les valeurs\n",
    "print(posts_per_month)\n",
    "\n",
    "# 5. Visualisation\n",
    "plt.figure(figsize=(10, 5))\n",
    "plt.bar(posts_per_month['month'], posts_per_month['count'], color='steelblue')\n",
    "plt.title(\"Nombre de posts par mois\")\n",
    "plt.xlabel(\"Mois\")\n",
    "plt.ylabel(\"Nombre de posts\")\n",
    "plt.xticks(rotation=45)\n",
    "plt.tight_layout()\n",
    "plt.show()"
   ]
  },
  {
   "cell_type": "code",
   "execution_count": 16,
   "metadata": {},
   "outputs": [
    {
     "data": {
      "image/png": "[encoded data removed]",
      "text/plain": [
       "<Figure size 800x400 with 1 Axes>"
      ]
     },
     "metadata": {},
     "output_type": "display_data"
    }
   ],
   "source": [
    "# Longueur des messages\n",
    "plt.figure(figsize=(8, 4))\n",
    "plt.hist(posts_df['message_length'], bins=30, color='tomato')\n",
    "plt.title(\"Longueur des messages\")\n",
    "plt.xlabel(\"Nombre de caractères\")\n",
    "plt.ylabel(\"Nombre de posts\")\n",
    "plt.tight_layout()\n",
    "plt.show()"
   ]
  },
  {
   "cell_type": "code",
   "execution_count": 23,
   "metadata": {},
   "outputs": [],
   "source": [
    "def parse_count(value):\n",
    "    if not value:\n",
    "        return 0\n",
    "    if isinstance(value, int):\n",
    "        return value\n",
    "    if isinstance(value, float):\n",
    "        return int(value)\n",
    "    value = str(value).strip().upper()\n",
    "    try:\n",
    "        if value.endswith('K') or value.endswith('k') :\n",
    "            return int(float(value[:-1]) * 1000)\n",
    "        elif value.endswith('M'):\n",
    "            return int(float(value[:-1]) * 1_000_000)\n",
    "        else:\n",
    "            return int(value)\n",
    "    except ValueError:\n",
    "        return 0"
   ]
  },
  {
   "cell_type": "code",
   "execution_count": null,
   "metadata": {},
   "outputs": [
    {
     "ename": "ValueError",
     "evalue": "invalid literal for int() with base 10: '1K'",
     "output_type": "error",
     "traceback": [
      "\u001b[0;31m---------------------------------------------------------------------------\u001b[0m",
      "\u001b[0;31mValueError\u001b[0m                                Traceback (most recent call last)",
      "Cell \u001b[0;32mIn[17], line 16\u001b[0m\n\u001b[1;32m     10\u001b[0m             metadata \u001b[38;5;241m=\u001b[39m comment\u001b[38;5;241m.\u001b[39mget(\u001b[38;5;124m'\u001b[39m\u001b[38;5;124mcomment_metadata\u001b[39m\u001b[38;5;124m'\u001b[39m, {})\n\u001b[1;32m     11\u001b[0m             \u001b[38;5;28;01mif\u001b[39;00m \u001b[38;5;124m'\u001b[39m\u001b[38;5;124mparent_post_id\u001b[39m\u001b[38;5;124m'\u001b[39m \u001b[38;5;129;01min\u001b[39;00m metadata:\n\u001b[1;32m     12\u001b[0m                 comment_flat \u001b[38;5;241m=\u001b[39m {\n\u001b[1;32m     13\u001b[0m                     \u001b[38;5;124m'\u001b[39m\u001b[38;5;124mcomment_id\u001b[39m\u001b[38;5;124m'\u001b[39m: comment\u001b[38;5;241m.\u001b[39mget(\u001b[38;5;124m'\u001b[39m\u001b[38;5;124mcomment_id\u001b[39m\u001b[38;5;124m'\u001b[39m),\n\u001b[1;32m     14\u001b[0m                     \u001b[38;5;124m'\u001b[39m\u001b[38;5;124mmessage\u001b[39m\u001b[38;5;124m'\u001b[39m: comment\u001b[38;5;241m.\u001b[39mget(\u001b[38;5;124m'\u001b[39m\u001b[38;5;124mmessage\u001b[39m\u001b[38;5;124m'\u001b[39m),\n\u001b[1;32m     15\u001b[0m                     \u001b[38;5;124m'\u001b[39m\u001b[38;5;124mcreated_time\u001b[39m\u001b[38;5;124m'\u001b[39m: comment\u001b[38;5;241m.\u001b[39mget(\u001b[38;5;124m'\u001b[39m\u001b[38;5;124mcreated_time\u001b[39m\u001b[38;5;124m'\u001b[39m),\n\u001b[0;32m---> 16\u001b[0m                     \u001b[38;5;124m'\u001b[39m\u001b[38;5;124mlike_count\u001b[39m\u001b[38;5;124m'\u001b[39m: \u001b[38;5;28;43mint\u001b[39;49m\u001b[43m(\u001b[49m\u001b[43mcomment\u001b[49m\u001b[38;5;241;43m.\u001b[39;49m\u001b[43mget\u001b[49m\u001b[43m(\u001b[49m\u001b[38;5;124;43m'\u001b[39;49m\u001b[38;5;124;43mlike_count\u001b[39;49m\u001b[38;5;124;43m'\u001b[39;49m\u001b[43m,\u001b[49m\u001b[43m \u001b[49m\u001b[38;5;241;43m0\u001b[39;49m\u001b[43m)\u001b[49m\u001b[43m)\u001b[49m,\n\u001b[1;32m     17\u001b[0m                     \u001b[38;5;124m'\u001b[39m\u001b[38;5;124mreply_count\u001b[39m\u001b[38;5;124m'\u001b[39m: comment\u001b[38;5;241m.\u001b[39mget(\u001b[38;5;124m'\u001b[39m\u001b[38;5;124mreply_count\u001b[39m\u001b[38;5;124m'\u001b[39m, \u001b[38;5;241m0\u001b[39m),\n\u001b[1;32m     18\u001b[0m                     \u001b[38;5;124m'\u001b[39m\u001b[38;5;124muser_id\u001b[39m\u001b[38;5;124m'\u001b[39m: comment\u001b[38;5;241m.\u001b[39mget(\u001b[38;5;124m'\u001b[39m\u001b[38;5;124muser_id\u001b[39m\u001b[38;5;124m'\u001b[39m),\n\u001b[1;32m     19\u001b[0m                     \u001b[38;5;124m'\u001b[39m\u001b[38;5;124muser_name\u001b[39m\u001b[38;5;124m'\u001b[39m: comment\u001b[38;5;241m.\u001b[39mget(\u001b[38;5;124m'\u001b[39m\u001b[38;5;124muser_name\u001b[39m\u001b[38;5;124m'\u001b[39m),\n\u001b[1;32m     20\u001b[0m                     \u001b[38;5;124m'\u001b[39m\u001b[38;5;124mcomment_url\u001b[39m\u001b[38;5;124m'\u001b[39m: comment\u001b[38;5;241m.\u001b[39mget(\u001b[38;5;124m'\u001b[39m\u001b[38;5;124mcomment_url\u001b[39m\u001b[38;5;124m'\u001b[39m),\n\u001b[1;32m     21\u001b[0m                     \u001b[38;5;124m'\u001b[39m\u001b[38;5;124mparent_post_id\u001b[39m\u001b[38;5;124m'\u001b[39m: metadata[\u001b[38;5;124m'\u001b[39m\u001b[38;5;124mparent_post_id\u001b[39m\u001b[38;5;124m'\u001b[39m],\n\u001b[1;32m     22\u001b[0m                     \u001b[38;5;124m'\u001b[39m\u001b[38;5;124mcomment_length\u001b[39m\u001b[38;5;124m'\u001b[39m: metadata\u001b[38;5;241m.\u001b[39mget(\u001b[38;5;124m'\u001b[39m\u001b[38;5;124mcomment_length\u001b[39m\u001b[38;5;124m'\u001b[39m),\n\u001b[1;32m     23\u001b[0m                     \u001b[38;5;124m'\u001b[39m\u001b[38;5;124mcomment_engagement_score\u001b[39m\u001b[38;5;124m'\u001b[39m: metadata\u001b[38;5;241m.\u001b[39mget(\u001b[38;5;124m'\u001b[39m\u001b[38;5;124mcomment_engagement_score\u001b[39m\u001b[38;5;124m'\u001b[39m),\n\u001b[1;32m     24\u001b[0m                     \u001b[38;5;124m'\u001b[39m\u001b[38;5;124mhas_hashtags\u001b[39m\u001b[38;5;124m'\u001b[39m: metadata\u001b[38;5;241m.\u001b[39mget(\u001b[38;5;124m'\u001b[39m\u001b[38;5;124mhas_hashtags\u001b[39m\u001b[38;5;124m'\u001b[39m),\n\u001b[1;32m     25\u001b[0m                     \u001b[38;5;124m'\u001b[39m\u001b[38;5;124mhas_mentions\u001b[39m\u001b[38;5;124m'\u001b[39m: metadata\u001b[38;5;241m.\u001b[39mget(\u001b[38;5;124m'\u001b[39m\u001b[38;5;124mhas_mentions\u001b[39m\u001b[38;5;124m'\u001b[39m),\n\u001b[1;32m     26\u001b[0m                     \u001b[38;5;124m'\u001b[39m\u001b[38;5;124mplatform\u001b[39m\u001b[38;5;124m'\u001b[39m: comment\u001b[38;5;241m.\u001b[39mget(\u001b[38;5;124m'\u001b[39m\u001b[38;5;124mplatform\u001b[39m\u001b[38;5;124m'\u001b[39m),\n\u001b[1;32m     27\u001b[0m                     \u001b[38;5;124m'\u001b[39m\u001b[38;5;124mbrand_name\u001b[39m\u001b[38;5;124m'\u001b[39m: comment\u001b[38;5;241m.\u001b[39mget(\u001b[38;5;124m'\u001b[39m\u001b[38;5;124mbrand_name\u001b[39m\u001b[38;5;124m'\u001b[39m)\n\u001b[1;32m     28\u001b[0m                 }\n\u001b[1;32m     29\u001b[0m                 all_comments\u001b[38;5;241m.\u001b[39mappend(comment_flat)\n\u001b[1;32m     31\u001b[0m \u001b[38;5;66;03m# Créer le DataFrame à partir de la liste\u001b[39;00m\n",
      "\u001b[0;31mValueError\u001b[0m: invalid literal for int() with base 10: '1K'"
     ]
    }
   ],
   "source": [
    "all_comments = []\n",
    "\n",
    "for post in data:\n",
    "    comments = post.get('comments', [])\n",
    "    \n",
    "    # Vérifie que la liste n'est pas vide\n",
    "    if comments:\n",
    "        for comment in comments:\n",
    "            # Extraire uniquement les commentaires avec metadata valide\n",
    "            metadata = comment.get('comment_metadata', {})\n",
    "            if 'parent_post_id' in metadata:\n",
    "                comment_flat = {\n",
    "                    'comment_id': comment.get('comment_id'),\n",
    "                    'message': comment.get('message'),\n",
    "                    'created_time': comment.get('created_time'),\n",
    "                   'like_count': parse_count(comment.get('like_count', 0)),\n",
    "                'reply_count': parse_count(comment.get('reply_count', 0)),\n",
    "                    'user_id': comment.get('user_id'),\n",
    "                    'user_name': comment.get('user_name'),\n",
    "                    'comment_url': comment.get('comment_url'),\n",
    "                    'parent_post_id': metadata['parent_post_id'],\n",
    "                    'comment_length': metadata.get('comment_length'),\n",
    "                    'comment_engagement_score': metadata.get('comment_engagement_score'),\n",
    "                    'has_hashtags': metadata.get('has_hashtags'),\n",
    "                    'has_mentions': metadata.get('has_mentions'),\n",
    "                    'platform': comment.get('platform'),\n",
    "                    'brand_name': comment.get('brand_name')\n",
    "                }\n",
    "                all_comments.append(comment_flat)\n",
    "\n",
    "# Créer le DataFrame à partir de la liste\n",
    "comments_df = pd.DataFrame(all_comments)\n",
    "\n",
    "# Conversion en datetime\n",
    "comments_df['created_time'] = pd.to_datetime(comments_df['created_time'])\n",
    "\n",
    "# Aperçu\n",
    "print(comments_df.head())"
   ]
  },
  {
   "cell_type": "code",
   "execution_count": 18,
   "metadata": {},
   "outputs": [
    {
     "ename": "NameError",
     "evalue": "name 'comments_df' is not defined",
     "output_type": "error",
     "traceback": [
      "\u001b[0;31m---------------------------------------------------------------------------\u001b[0m",
      "\u001b[0;31mNameError\u001b[0m                                 Traceback (most recent call last)",
      "Cell \u001b[0;32mIn[18], line 1\u001b[0m\n\u001b[0;32m----> 1\u001b[0m \u001b[43mcomments_df\u001b[49m\u001b[38;5;241m.\u001b[39minfo()\n",
      "\u001b[0;31mNameError\u001b[0m: name 'comments_df' is not defined"
     ]
    }
   ],
   "source": [
    "comments_df.info()"
   ]
  },
  {
   "cell_type": "code",
   "execution_count": 21,
   "metadata": {},
   "outputs": [
    {
     "data": {
      "text/plain": [
       "20774"
      ]
     },
     "execution_count": 21,
     "metadata": {},
     "output_type": "execute_result"
    }
   ],
   "source": [
    "comments_df[\"comment_id\"].nunique()"
   ]
  },
  {
   "cell_type": "code",
   "execution_count": 19,
   "metadata": {},
   "outputs": [
    {
     "ename": "NameError",
     "evalue": "name 'comments_df' is not defined",
     "output_type": "error",
     "traceback": [
      "\u001b[0;31m---------------------------------------------------------------------------\u001b[0m",
      "\u001b[0;31mNameError\u001b[0m                                 Traceback (most recent call last)",
      "Cell \u001b[0;32mIn[19], line 2\u001b[0m\n\u001b[1;32m      1\u001b[0m \u001b[38;5;66;03m# 1. Trouver les comment_id dupliqués\u001b[39;00m\n\u001b[0;32m----> 2\u001b[0m duplicated_ids \u001b[38;5;241m=\u001b[39m \u001b[43mcomments_df\u001b[49m[\u001b[38;5;124m'\u001b[39m\u001b[38;5;124mcomment_id\u001b[39m\u001b[38;5;124m'\u001b[39m][comments_df[\u001b[38;5;124m'\u001b[39m\u001b[38;5;124mcomment_id\u001b[39m\u001b[38;5;124m'\u001b[39m]\u001b[38;5;241m.\u001b[39mduplicated()]\n\u001b[1;32m      4\u001b[0m \u001b[38;5;66;03m# 2. Accéder aux lignes complètes avec ces comment_id\u001b[39;00m\n\u001b[1;32m      5\u001b[0m duplicated_comments \u001b[38;5;241m=\u001b[39m comments_df[comments_df[\u001b[38;5;124m'\u001b[39m\u001b[38;5;124mcomment_id\u001b[39m\u001b[38;5;124m'\u001b[39m]\u001b[38;5;241m.\u001b[39misin(duplicated_ids)]\n",
      "\u001b[0;31mNameError\u001b[0m: name 'comments_df' is not defined"
     ]
    }
   ],
   "source": [
    "# 1. Trouver les comment_id dupliqués\n",
    "duplicated_ids = comments_df['comment_id'][comments_df['comment_id'].duplicated()]\n",
    "\n",
    "# 2. Accéder aux lignes complètes avec ces comment_id\n",
    "duplicated_comments = comments_df[comments_df['comment_id'].isin(duplicated_ids)]\n",
    "\n",
    "# 3. Afficher les résultats\n",
    "print(f\"Nombre de commentaires dupliqués : {duplicated_comments.shape[0]}\")\n",
    "print(duplicated_comments[['comment_id', 'message', 'created_time']])\n"
   ]
  },
  {
   "cell_type": "code",
   "execution_count": 20,
   "metadata": {},
   "outputs": [
    {
     "ename": "NameError",
     "evalue": "name 'comments_df' is not defined",
     "output_type": "error",
     "traceback": [
      "\u001b[0;31m---------------------------------------------------------------------------\u001b[0m",
      "\u001b[0;31mNameError\u001b[0m                                 Traceback (most recent call last)",
      "Cell \u001b[0;32mIn[20], line 1\u001b[0m\n\u001b[0;32m----> 1\u001b[0m \u001b[38;5;28mprint\u001b[39m(\u001b[43mcomments_df\u001b[49m\u001b[38;5;241m.\u001b[39mshape)\n\u001b[1;32m      2\u001b[0m \u001b[38;5;28mprint\u001b[39m(comments_df\u001b[38;5;241m.\u001b[39mdtypes)\n\u001b[1;32m      3\u001b[0m comments_df\u001b[38;5;241m.\u001b[39mhead()\n",
      "\u001b[0;31mNameError\u001b[0m: name 'comments_df' is not defined"
     ]
    }
   ],
   "source": [
    "print(comments_df.shape)\n",
    "print(comments_df.dtypes)\n",
    "comments_df.head()"
   ]
  },
  {
   "cell_type": "code",
   "execution_count": 21,
   "metadata": {},
   "outputs": [
    {
     "ename": "NameError",
     "evalue": "name 'comments_df' is not defined",
     "output_type": "error",
     "traceback": [
      "\u001b[0;31m---------------------------------------------------------------------------\u001b[0m",
      "\u001b[0;31mNameError\u001b[0m                                 Traceback (most recent call last)",
      "Cell \u001b[0;32mIn[21], line 2\u001b[0m\n\u001b[1;32m      1\u001b[0m plt\u001b[38;5;241m.\u001b[39mfigure(figsize\u001b[38;5;241m=\u001b[39m(\u001b[38;5;241m8\u001b[39m,\u001b[38;5;241m4\u001b[39m))\n\u001b[0;32m----> 2\u001b[0m sns\u001b[38;5;241m.\u001b[39mhistplot(\u001b[43mcomments_df\u001b[49m[\u001b[38;5;124m'\u001b[39m\u001b[38;5;124mcomment_length\u001b[39m\u001b[38;5;124m'\u001b[39m], bins\u001b[38;5;241m=\u001b[39m\u001b[38;5;241m30\u001b[39m, kde\u001b[38;5;241m=\u001b[39m\u001b[38;5;28;01mTrue\u001b[39;00m)\n\u001b[1;32m      3\u001b[0m plt\u001b[38;5;241m.\u001b[39mtitle(\u001b[38;5;124m\"\u001b[39m\u001b[38;5;124mDistribution de la longueur des commentaires\u001b[39m\u001b[38;5;124m\"\u001b[39m)\n\u001b[1;32m      4\u001b[0m plt\u001b[38;5;241m.\u001b[39mxlabel(\u001b[38;5;124m\"\u001b[39m\u001b[38;5;124mNombre de caractères\u001b[39m\u001b[38;5;124m\"\u001b[39m)\n",
      "\u001b[0;31mNameError\u001b[0m: name 'comments_df' is not defined"
     ]
    },
    {
     "data": {
      "text/plain": [
       "<Figure size 800x400 with 0 Axes>"
      ]
     },
     "metadata": {},
     "output_type": "display_data"
    }
   ],
   "source": [
    "\n",
    "plt.figure(figsize=(8,4))\n",
    "sns.histplot(comments_df['comment_length'], bins=30, kde=True)\n",
    "plt.title(\"Distribution de la longueur des commentaires\")\n",
    "plt.xlabel(\"Nombre de caractères\")\n",
    "plt.ylabel(\"Fréquence\")\n",
    "plt.show()"
   ]
  },
  {
   "cell_type": "code",
   "execution_count": 22,
   "metadata": {},
   "outputs": [
    {
     "ename": "NameError",
     "evalue": "name 'comments_df' is not defined",
     "output_type": "error",
     "traceback": [
      "\u001b[0;31m---------------------------------------------------------------------------\u001b[0m",
      "\u001b[0;31mNameError\u001b[0m                                 Traceback (most recent call last)",
      "Cell \u001b[0;32mIn[22], line 1\u001b[0m\n\u001b[0;32m----> 1\u001b[0m message \u001b[38;5;241m=\u001b[39m \u001b[43mcomments_df\u001b[49m[comments_df[\u001b[38;5;124m\"\u001b[39m\u001b[38;5;124mcomment_length\u001b[39m\u001b[38;5;124m\"\u001b[39m] \u001b[38;5;241m>\u001b[39m \u001b[38;5;241m4000\u001b[39m][\u001b[38;5;124m\"\u001b[39m\u001b[38;5;124mmessage\u001b[39m\u001b[38;5;124m\"\u001b[39m]\u001b[38;5;241m.\u001b[39miloc[\u001b[38;5;241m0\u001b[39m]\n\u001b[1;32m      2\u001b[0m \u001b[38;5;28mprint\u001b[39m(message)\n",
      "\u001b[0;31mNameError\u001b[0m: name 'comments_df' is not defined"
     ]
    }
   ],
   "source": [
    "message = comments_df[comments_df[\"comment_length\"] > 4000][\"message\"].iloc[0]\n",
    "print(message)\n"
   ]
  },
  {
   "cell_type": "code",
   "execution_count": null,
   "metadata": {},
   "outputs": [
    {
     "name": "stdout",
     "output_type": "stream",
     "text": [
      "🧪 Champs texte vides (commentaires) :\n",
      " - comment_id: 0 lignes vides\n",
      " - user_id: 0 lignes vides\n",
      " - user_name: 0 lignes vides\n",
      " - message: 466 lignes vides\n",
      " - created_time: 0 lignes vides\n",
      "\n",
      "🕒 Vérification des timestamps invalides (commentaires) :\n",
      " - created_time non valides : 0\n",
      "\n",
      "🔁 Valeurs uniques booléennes (commentaires) :\n",
      "\n",
      "🔢 Champs numériques avec des zéros (commentaires) :\n",
      " - like_count == 0 : 16570 lignes\n",
      " - reply_count == 0 : 16336 lignes\n",
      "\n",
      "📚 Vérification des champs listes (commentaires) :\n"
     ]
    }
   ],
   "source": [
    "# 1. Colonnes texte à vérifier\n",
    "text_fields = [\n",
    "    \"comment_id\", \"user_id\", \"user_name\", \"message\", \"created_time\"\n",
    "]\n",
    "\n",
    "print(\"🧪 Champs texte vides (commentaires) :\")\n",
    "for col in text_fields:\n",
    "    empty_count = (comments_df[col].astype(str).str.strip() == '').sum()\n",
    "    print(f\" - {col}: {empty_count} lignes vides\")\n",
    "\n",
    "# 2. Vérification created_time valide\n",
    "print(\"\\n🕒 Vérification des timestamps invalides (commentaires) :\")\n",
    "invalid_dates = pd.to_datetime(comments_df[\"created_time\"], errors=\"coerce\").isna().sum()\n",
    "print(f\" - created_time non valides : {invalid_dates}\")\n",
    "\n",
    "# 3. Valeurs uniques des booléens (si existent, ex: can_like, peut être adapté à ton cas)\n",
    "bool_fields = [col for col in [\"can_like\"] if col in comments_df.columns]\n",
    "\n",
    "print(\"\\n🔁 Valeurs uniques booléennes (commentaires) :\")\n",
    "for col in bool_fields:\n",
    "    print(f\" - {col}: {comments_df[col].nunique()} valeurs uniques ({comments_df[col].unique()})\")\n",
    "\n",
    "# 4. Champs numériques : valeurs à 0\n",
    "numeric_fields = [col for col in [\"like_count\", \"reply_count\"] if col in comments_df.columns]\n",
    "\n",
    "print(\"\\n🔢 Champs numériques avec des zéros (commentaires) :\")\n",
    "for col in numeric_fields:\n",
    "    zero_count = (comments_df[col] == 0).sum()\n",
    "    print(f\" - {col} == 0 : {zero_count} lignes\")\n",
    "\n",
    "# 5. Listes : hashtags et mentions dans les commentaires (si présents)\n",
    "list_fields = [col for col in [\"hashtags\", \"mentions\"] if col in comments_df.columns]\n",
    "\n",
    "print(\"\\n📚 Vérification des champs listes (commentaires) :\")\n",
    "for col in list_fields:\n",
    "    non_lists = comments_df[~comments_df[col].apply(lambda x: isinstance(x, list))].shape[0]\n",
    "    empty_lists = comments_df[comments_df[col].apply(lambda x: isinstance(x, list) and len(x) == 0)].shape[0]\n",
    "    print(f\" - {col} : {non_lists} non-listes / {empty_lists} listes vides\")"
   ]
  }
 ],
 "metadata": {
  "kernelspec": {
   "display_name": "Python 3",
   "language": "python",
   "name": "python3"
  },
  "language_info": {
   "codemirror_mode": {
    "name": "ipython",
    "version": 3
   },
   "file_extension": ".py",
   "mimetype": "text/x-python",
   "name": "python",
   "nbconvert_exporter": "python",
   "pygments_lexer": "ipython3",
   "version": "3.10.12"
  }
 },
 "nbformat": 4,
 "nbformat_minor": 2
}
