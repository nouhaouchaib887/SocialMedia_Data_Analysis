{
 "cells": [
  {
   "cell_type": "code",
   "execution_count": 2,
   "metadata": {},
   "outputs": [],
   "source": [
    "import pandas as pd\n",
    "import matplotlib.pyplot as plt\n",
    "import numpy as np\n",
    "import json\n",
    "import seaborn as sns"
   ]
  },
  {
   "cell_type": "markdown",
   "metadata": {},
   "source": [
    "# Facebook _data_winbyinwi"
   ]
  },
  {
   "cell_type": "code",
   "execution_count": 3,
   "metadata": {},
   "outputs": [],
   "source": [
    "with open('../../../data/official_pages/facebook_data_backup/winbyinwi_facebook_data_20250612_105247.json', 'r', encoding='utf-8') as f:\n",
    "    data = json.load(f)"
   ]
  },
  {
   "cell_type": "code",
   "execution_count": 4,
   "metadata": {},
   "outputs": [
    {
     "name": "stdout",
     "output_type": "stream",
     "text": [
      "Type des données chargées : <class 'list'>\n"
     ]
    }
   ],
   "source": [
    "print(f\"Type des données chargées : {type(data)}\")"
   ]
  },
  {
   "cell_type": "code",
   "execution_count": 5,
   "metadata": {},
   "outputs": [],
   "source": [
    "posts_df = pd.DataFrame(data if isinstance(data, list) else [data])\n",
    "if 'comments' in posts_df.columns:\n",
    "    posts_df = posts_df.drop(columns=['comments'])\n",
    "\n",
    "#Convertir created_time en datetime\n",
    "posts_df['created_time'] = pd.to_datetime(posts_df['created_time'])"
   ]
  },
  {
   "cell_type": "code",
   "execution_count": 6,
   "metadata": {},
   "outputs": [
    {
     "name": "stdout",
     "output_type": "stream",
     "text": [
      "<class 'pandas.core.frame.DataFrame'>\n",
      "RangeIndex: 100 entries, 0 to 99\n",
      "Data columns (total 20 columns):\n",
      " #   Column          Non-Null Count  Dtype         \n",
      "---  ------          --------------  -----         \n",
      " 0   post_id         100 non-null    object        \n",
      " 1   source_id       100 non-null    object        \n",
      " 2   created_time    100 non-null    datetime64[ns]\n",
      " 3   permalink       100 non-null    object        \n",
      " 4   page_id         100 non-null    object        \n",
      " 5   page_name       100 non-null    object        \n",
      " 6   message         100 non-null    object        \n",
      " 7   media_type      100 non-null    object        \n",
      " 8   media_url       100 non-null    object        \n",
      " 9   thumbnail_url   100 non-null    object        \n",
      " 10  can_share       100 non-null    bool          \n",
      " 11  shares          100 non-null    int64         \n",
      " 12  can_comment     100 non-null    bool          \n",
      " 13  comments_count  100 non-null    int64         \n",
      " 14  can_like        100 non-null    bool          \n",
      " 15  like_count      100 non-null    int64         \n",
      " 16  hashtags        100 non-null    object        \n",
      " 17  mentions        100 non-null    object        \n",
      " 18  platform        100 non-null    object        \n",
      " 19  brand_name      100 non-null    object        \n",
      "dtypes: bool(3), datetime64[ns](1), int64(3), object(13)\n",
      "memory usage: 13.7+ KB\n"
     ]
    }
   ],
   "source": [
    "posts_df.info()"
   ]
  },
  {
   "cell_type": "code",
   "execution_count": 7,
   "metadata": {},
   "outputs": [
    {
     "data": {
      "text/plain": [
       "post_id           0\n",
       "source_id         0\n",
       "created_time      0\n",
       "permalink         0\n",
       "page_id           0\n",
       "page_name         0\n",
       "message           0\n",
       "media_type        0\n",
       "media_url         0\n",
       "thumbnail_url     0\n",
       "can_share         0\n",
       "shares            0\n",
       "can_comment       0\n",
       "comments_count    0\n",
       "can_like          0\n",
       "like_count        0\n",
       "hashtags          0\n",
       "mentions          0\n",
       "platform          0\n",
       "brand_name        0\n",
       "dtype: int64"
      ]
     },
     "execution_count": 7,
     "metadata": {},
     "output_type": "execute_result"
    }
   ],
   "source": [
    "posts_df.isnull().sum()"
   ]
  },
  {
   "cell_type": "code",
   "execution_count": 9,
   "metadata": {},
   "outputs": [
    {
     "name": "stdout",
     "output_type": "stream",
     "text": [
      "🧪 Champs texte vides :\n",
      " - post_id: 0 lignes vides\n",
      " - source_id: 0 lignes vides\n",
      " - created_time: 0 lignes vides\n",
      " - permalink: 0 lignes vides\n",
      " - page_id: 0 lignes vides\n",
      " - page_name: 0 lignes vides\n",
      " - message: 1 lignes vides\n",
      " - media_type: 1 lignes vides\n",
      " - media_url: 0 lignes vides\n",
      " - thumbnail_url: 1 lignes vides\n",
      "\n",
      "🕒 Vérification des timestamps invalides :\n",
      " - created_time non valides : 0\n",
      "\n",
      "🔁 Valeurs uniques booléennes :\n",
      " - can_share: 1 valeurs uniques ([ True])\n",
      " - can_comment: 1 valeurs uniques ([ True])\n",
      "\n",
      "🔢 Champs numériques avec des zéros :\n",
      " - shares == 0 : 1 lignes\n",
      " - comments_count == 0 : 0 lignes\n",
      " - like_count == 0 : 0 lignes\n",
      "\n",
      "📚 Vérification des champs listes :\n",
      " - hashtags : 0 non-listes / 14 listes vides\n",
      " - mentions : 0 non-listes / 94 listes vides\n"
     ]
    }
   ],
   "source": [
    "\n",
    "# 1. Colonnes à vérifier pour présence de chaînes vides\n",
    "text_fields = [\n",
    "    \"post_id\", \"source_id\", \"created_time\", \"permalink\", \"page_id\",\n",
    "    \"page_name\", \"message\", \"media_type\", \"media_url\", \"thumbnail_url\"\n",
    "]\n",
    "\n",
    "print(\"🧪 Champs texte vides :\")\n",
    "for col in text_fields:\n",
    "    empty_count = (posts_df[col].astype(str).str.strip() == '').sum()\n",
    "    print(f\" - {col}: {empty_count} lignes vides\")\n",
    "\n",
    "# 2. Vérification created_time valide\n",
    "print(\"\\n🕒 Vérification des timestamps invalides :\")\n",
    "invalid_dates = pd.to_datetime(posts_df[\"created_time\"], errors=\"coerce\").isna().sum()\n",
    "print(f\" - created_time non valides : {invalid_dates}\")\n",
    "\n",
    "# 3. Valeurs uniques des booléens\n",
    "print(\"\\n🔁 Valeurs uniques booléennes :\")\n",
    "for col in [\"can_share\", \"can_comment\"]:\n",
    "    print(f\" - {col}: {posts_df[col].nunique()} valeurs uniques ({posts_df[col].unique()})\")\n",
    "\n",
    "# 4. Champs numériques à 0\n",
    "print(\"\\n🔢 Champs numériques avec des zéros :\")\n",
    "for col in [\"shares\", \"comments_count\", \"like_count\"]:\n",
    "    zero_count = (posts_df[col] == 0).sum()\n",
    "    print(f\" - {col} == 0 : {zero_count} lignes\")\n",
    "\n",
    "# 5. Listes : type check et nombre de listes vides\n",
    "print(\"\\n📚 Vérification des champs listes :\")\n",
    "for col in [\"hashtags\", \"mentions\"]:\n",
    "    non_lists = posts_df[~posts_df[col].apply(lambda x: isinstance(x, list))].shape[0]\n",
    "    empty_lists = posts_df[posts_df[col].apply(lambda x: isinstance(x, list) and len(x) == 0)].shape[0]\n",
    "    print(f\" - {col} : {non_lists} non-listes / {empty_lists} listes vides\")"
   ]
  },
  {
   "cell_type": "code",
   "execution_count": 11,
   "metadata": {},
   "outputs": [],
   "source": [
    " #Ajouter des colonnes utiles\n",
    "posts_df['day'] = posts_df['created_time'].dt.date\n",
    "posts_df['hour'] = posts_df['created_time'].dt.hour\n",
    "posts_df['message_length'] = posts_df['message'].fillna('').apply(len)"
   ]
  },
  {
   "cell_type": "code",
   "execution_count": 12,
   "metadata": {},
   "outputs": [
    {
     "name": "stdout",
     "output_type": "stream",
     "text": [
      "                post_id        source_id                   created_time  \\\n",
      "count               100              100                            100   \n",
      "unique              100                1                            NaN   \n",
      "top     774735434877743  100070238800377                            NaN   \n",
      "freq                  1              100                            NaN   \n",
      "mean                NaN              NaN  2024-11-28 21:06:36.480000256   \n",
      "min                 NaN              NaN            2024-07-09 13:56:08   \n",
      "25%                 NaN              NaN            2024-08-23 07:55:54   \n",
      "50%                 NaN              NaN            2024-11-12 01:15:38   \n",
      "75%                 NaN              NaN     2025-02-18 03:39:54.500000   \n",
      "max                 NaN              NaN            2025-06-07 09:45:50   \n",
      "std                 NaN              NaN                            NaN   \n",
      "\n",
      "                                                permalink          page_id  \\\n",
      "count                                                 100              100   \n",
      "unique                                                100                1   \n",
      "top     https://www.facebook.com/winbyinwi/posts/77473...  100070238800377   \n",
      "freq                                                    1              100   \n",
      "mean                                                  NaN              NaN   \n",
      "min                                                   NaN              NaN   \n",
      "25%                                                   NaN              NaN   \n",
      "50%                                                   NaN              NaN   \n",
      "75%                                                   NaN              NaN   \n",
      "max                                                   NaN              NaN   \n",
      "std                                                   NaN              NaN   \n",
      "\n",
      "        page_name            message media_type  \\\n",
      "count         100                100        100   \n",
      "unique          1                 99          3   \n",
      "top     winbyinwi  عيد مبارك سعيد ✨🩷      Photo   \n",
      "freq          100                  2         52   \n",
      "mean          NaN                NaN        NaN   \n",
      "min           NaN                NaN        NaN   \n",
      "25%           NaN                NaN        NaN   \n",
      "50%           NaN                NaN        NaN   \n",
      "75%           NaN                NaN        NaN   \n",
      "max           NaN                NaN        NaN   \n",
      "std           NaN                NaN        NaN   \n",
      "\n",
      "                                              media_url  \\\n",
      "count                                               100   \n",
      "unique                                              100   \n",
      "top     https://www.facebook.com/reel/1422500872098554/   \n",
      "freq                                                  1   \n",
      "mean                                                NaN   \n",
      "min                                                 NaN   \n",
      "25%                                                 NaN   \n",
      "50%                                                 NaN   \n",
      "75%                                                 NaN   \n",
      "max                                                 NaN   \n",
      "std                                                 NaN   \n",
      "\n",
      "                                            thumbnail_url  ... comments_count  \\\n",
      "count                                                 100  ...     100.000000   \n",
      "unique                                                100  ...            NaN   \n",
      "top     https://scontent.fabj3-2.fna.fbcdn.net/v/t51.7...  ...            NaN   \n",
      "freq                                                    1  ...            NaN   \n",
      "mean                                                  NaN  ...     198.710000   \n",
      "min                                                   NaN  ...       6.000000   \n",
      "25%                                                   NaN  ...      49.750000   \n",
      "50%                                                   NaN  ...      87.500000   \n",
      "75%                                                   NaN  ...     143.000000   \n",
      "max                                                   NaN  ...    4878.000000   \n",
      "std                                                   NaN  ...     622.878465   \n",
      "\n",
      "        can_like   like_count                       hashtags mentions  \\\n",
      "count        100   100.000000                            100      100   \n",
      "unique         1          NaN                             13        4   \n",
      "top         True          NaN  [winbyinwi, lmax_dial_skhawa]       []   \n",
      "freq         100          NaN                             67       94   \n",
      "mean         NaN   785.120000                            NaN      NaN   \n",
      "min          NaN    37.000000                            NaN      NaN   \n",
      "25%          NaN    89.750000                            NaN      NaN   \n",
      "50%          NaN   280.000000                            NaN      NaN   \n",
      "75%          NaN   904.000000                            NaN      NaN   \n",
      "max          NaN  6486.000000                            NaN      NaN   \n",
      "std          NaN  1199.223952                            NaN      NaN   \n",
      "\n",
      "        platform brand_name         day        hour message_length  \n",
      "count        100        100         100  100.000000     100.000000  \n",
      "unique         1          1          90         NaN            NaN  \n",
      "top     facebook  winbyinwi  2024-10-22         NaN            NaN  \n",
      "freq         100        100           3         NaN            NaN  \n",
      "mean         NaN        NaN         NaN   14.220000     120.610000  \n",
      "min          NaN        NaN         NaN    8.000000       0.000000  \n",
      "25%          NaN        NaN         NaN   13.000000      78.000000  \n",
      "50%          NaN        NaN         NaN   14.000000      96.500000  \n",
      "75%          NaN        NaN         NaN   16.000000     135.250000  \n",
      "max          NaN        NaN         NaN   21.000000     463.000000  \n",
      "std          NaN        NaN         NaN    2.819771      81.387947  \n",
      "\n",
      "[11 rows x 23 columns]\n",
      "post_id                   object\n",
      "source_id                 object\n",
      "created_time      datetime64[ns]\n",
      "permalink                 object\n",
      "page_id                   object\n",
      "page_name                 object\n",
      "message                   object\n",
      "media_type                object\n",
      "media_url                 object\n",
      "thumbnail_url             object\n",
      "can_share                   bool\n",
      "shares                     int64\n",
      "can_comment                 bool\n",
      "comments_count             int64\n",
      "can_like                    bool\n",
      "like_count                 int64\n",
      "hashtags                  object\n",
      "mentions                  object\n",
      "platform                  object\n",
      "brand_name                object\n",
      "day                       object\n",
      "hour                       int32\n",
      "message_length             int64\n",
      "dtype: object\n",
      "           post_id        source_id        created_time  \\\n",
      "0  774735434877743  100070238800377 2025-06-07 09:45:50   \n",
      "1  774318694919417  100070238800377 2025-06-06 19:00:25   \n",
      "2  771100871907866  100070238800377 2025-06-02 11:30:33   \n",
      "3  763927945958492  100070238800377 2025-05-23 13:20:34   \n",
      "4  758345693183384  100070238800377 2025-05-15 15:05:53   \n",
      "\n",
      "                                           permalink          page_id  \\\n",
      "0  https://www.facebook.com/winbyinwi/posts/77473...  100070238800377   \n",
      "1  https://www.facebook.com/winbyinwi/posts/77431...  100070238800377   \n",
      "2  https://www.facebook.com/winbyinwi/posts/77110...  100070238800377   \n",
      "3  https://www.facebook.com/winbyinwi/posts/76392...  100070238800377   \n",
      "4  https://www.facebook.com/winbyinwi/posts/75834...  100070238800377   \n",
      "\n",
      "   page_name                                            message media_type  \\\n",
      "0  winbyinwi                                  عيد مبارك سعيد ✨🩷      Video   \n",
      "1  winbyinwi                                  عيد مبارك سعيد ✨🩷      Photo   \n",
      "2  winbyinwi  Samsung galaxy AI jdiiiid had simanaa 3awtani ...      Video   \n",
      "3  winbyinwi  The 2nd Winner m3ana f challenge dyalna howa @...      Photo   \n",
      "4  winbyinwi  Simana jdida, challenge jdid, Samsung galaxy A...      Photo   \n",
      "\n",
      "                                           media_url  \\\n",
      "0    https://www.facebook.com/reel/1422500872098554/   \n",
      "1  https://www.facebook.com/photo/?fbid=774318681...   \n",
      "2  https://www.facebook.com/winbyinwi/videos/7073...   \n",
      "3  https://www.facebook.com/photo/?fbid=763927929...   \n",
      "4  https://www.facebook.com/photo/?fbid=758345659...   \n",
      "\n",
      "                                       thumbnail_url  ...  comments_count  \\\n",
      "0  https://scontent.fabj3-2.fna.fbcdn.net/v/t51.7...  ...              65   \n",
      "1  https://scontent.fabj3-2.fna.fbcdn.net/v/t39.3...  ...              27   \n",
      "2  https://scontent.fabj3-2.fna.fbcdn.net/v/t15.5...  ...             113   \n",
      "3  https://scontent-sjc3-1.xx.fbcdn.net/v/t39.308...  ...              96   \n",
      "4  https://scontent-sjc3-1.xx.fbcdn.net/v/t39.308...  ...             199   \n",
      "\n",
      "   can_like  like_count                                           hashtags  \\\n",
      "0      True          37                                                 []   \n",
      "1      True          50                                                 []   \n",
      "2      True        3374  [jeuconcoursIA, winbyinwi, lmax_dial_skhawa, j...   \n",
      "3      True         102                      [winbyinwi, lmax_dial_skhawa]   \n",
      "4      True        2383  [6_snine_w_hna_mber3ine, winbyinwi, lmax_dial_...   \n",
      "\n",
      "      mentions  platform brand_name         day hour message_length  \n",
      "0           []  facebook  winbyinwi  2025-06-07    9             17  \n",
      "1           []  facebook  winbyinwi  2025-06-06   19             17  \n",
      "2  [winbyinwi]  facebook  winbyinwi  2025-06-02   11            393  \n",
      "3  [abdosm_mb]  facebook  winbyinwi  2025-05-23   13            191  \n",
      "4  [winbyinwi]  facebook  winbyinwi  2025-05-15   15            409  \n",
      "\n",
      "[5 rows x 23 columns]\n",
      "100\n"
     ]
    }
   ],
   "source": [
    "#Aperçu général\n",
    "print(posts_df.describe(include='all'))\n",
    "print(posts_df.dtypes)\n",
    "print(posts_df.head())\n",
    "print(posts_df[\"post_id\"].nunique())"
   ]
  },
  {
   "cell_type": "code",
   "execution_count": 13,
   "metadata": {},
   "outputs": [
    {
     "data": {
      "image/png": "[encoded data removed]",
      "text/plain": [
       "<Figure size 800x400 with 1 Axes>"
      ]
     },
     "metadata": {},
     "output_type": "display_data"
    }
   ],
   "source": [
    "\n",
    "# 1. Histogramme des likes\n",
    "plt.figure(figsize=(8, 4))\n",
    "plt.hist(posts_df['like_count'], bins=20, color='orchid')\n",
    "plt.title(\"Distribution des likes par post\")\n",
    "plt.xlabel(\"Likes\")\n",
    "plt.ylabel(\"Nombre de posts\")\n",
    "plt.grid(True)\n",
    "plt.tight_layout()\n",
    "plt.show()"
   ]
  },
  {
   "cell_type": "code",
   "execution_count": 14,
   "metadata": {},
   "outputs": [
    {
     "data": {
      "image/png": "[encoded data removed]",
      "text/plain": [
       "<Figure size 800x400 with 1 Axes>"
      ]
     },
     "metadata": {},
     "output_type": "display_data"
    }
   ],
   "source": [
    "plt.figure(figsize=(8, 4))\n",
    "plt.hist(posts_df['comments_count'], bins=20, color='skyblue')\n",
    "plt.title(\"Distribution des commentaires par post\")\n",
    "plt.xlabel(\"Commentaires\")\n",
    "plt.ylabel(\"Nombre de posts\")\n",
    "plt.grid(True)\n",
    "plt.tight_layout()\n",
    "plt.show()"
   ]
  },
  {
   "cell_type": "code",
   "execution_count": 15,
   "metadata": {},
   "outputs": [
    {
     "name": "stdout",
     "output_type": "stream",
     "text": [
      "      month  count\n",
      "0   2024-07     12\n",
      "1   2024-08     17\n",
      "2   2024-09      6\n",
      "3   2024-10     13\n",
      "4   2024-11      6\n",
      "5   2024-12      7\n",
      "6   2025-01     10\n",
      "7   2025-02      5\n",
      "8   2025-03     11\n",
      "9   2025-04      5\n",
      "10  2025-05      5\n",
      "11  2025-06      3\n"
     ]
    },
    {
     "data": {
      "image/png": "[encoded data removed]",
      "text/plain": [
       "<Figure size 1000x500 with 1 Axes>"
      ]
     },
     "metadata": {},
     "output_type": "display_data"
    }
   ],
   "source": [
    "posts_df['month'] = posts_df['created_time'].dt.to_period('M').astype(str)\n",
    "\n",
    "# 3. Compter les posts par mois\n",
    "posts_per_month = posts_df.groupby('month').size().reset_index(name='count')\n",
    "\n",
    "# 4. Afficher les valeurs\n",
    "print(posts_per_month)\n",
    "\n",
    "# 5. Visualisation\n",
    "plt.figure(figsize=(10, 5))\n",
    "plt.bar(posts_per_month['month'], posts_per_month['count'], color='steelblue')\n",
    "plt.title(\"Nombre de posts par mois\")\n",
    "plt.xlabel(\"Mois\")\n",
    "plt.ylabel(\"Nombre de posts\")\n",
    "plt.xticks(rotation=45)\n",
    "plt.tight_layout()\n",
    "plt.show()"
   ]
  },
  {
   "cell_type": "code",
   "execution_count": 16,
   "metadata": {},
   "outputs": [
    {
     "data": {
      "image/png": "[encoded data removed]",
      "text/plain": [
       "<Figure size 800x400 with 1 Axes>"
      ]
     },
     "metadata": {},
     "output_type": "display_data"
    }
   ],
   "source": [
    "# Longueur des messages\n",
    "plt.figure(figsize=(8, 4))\n",
    "plt.hist(posts_df['message_length'], bins=30, color='tomato')\n",
    "plt.title(\"Longueur des messages\")\n",
    "plt.xlabel(\"Nombre de caractères\")\n",
    "plt.ylabel(\"Nombre de posts\")\n",
    "plt.tight_layout()\n",
    "plt.show()"
   ]
  },
  {
   "cell_type": "code",
   "execution_count": 21,
   "metadata": {},
   "outputs": [],
   "source": [
    "def parse_count(value):\n",
    "    if not value:\n",
    "        return 0\n",
    "    if isinstance(value, int):\n",
    "        return value\n",
    "    if isinstance(value, float):\n",
    "        return int(value)\n",
    "    value = str(value).strip().upper()\n",
    "    try:\n",
    "        if value.endswith('K') or value.endswith('k') :\n",
    "            return int(float(value[:-1]) * 1000)\n",
    "        elif value.endswith('M'):\n",
    "            return int(float(value[:-1]) * 1_000_000)\n",
    "        else:\n",
    "            return int(value)\n",
    "    except ValueError:\n",
    "        return 0"
   ]
  },
  {
   "cell_type": "code",
   "execution_count": 22,
   "metadata": {},
   "outputs": [
    {
     "name": "stdout",
     "output_type": "stream",
     "text": [
      "         comment_id                                            message  \\\n",
      "0  1234033491702046  مزال مهداكم الله تدوزو ليا واحد remboursement ...   \n",
      "1  4052044455046938  J'ai oublié mon mot de passe de mon compte win...   \n",
      "2  1924792288332814                                ‏عيد مبارك سعيد win   \n",
      "3  1052396893504978  Nass dwin jawboni ohllo lia lmochkil, ana oga3...   \n",
      "4  1657038488280678                        واش كاتخدمو سيمانة كاملة ؟؟   \n",
      "\n",
      "               created_time  like_count  reply_count  \\\n",
      "0 2025-06-07 10:33:26+00:00           1            2   \n",
      "1 2025-06-09 01:46:12+00:00           0            3   \n",
      "2 2025-06-07 10:55:15+00:00           0            0   \n",
      "3 2025-06-11 13:18:09+00:00           0            2   \n",
      "4 2025-06-07 11:39:20+00:00           0            1   \n",
      "\n",
      "                                             user_id            user_name  \\\n",
      "0  pfbid02DZ2U5yoWEC3RKmQzFff28Cd5MRRvyH6QUsLkBBC...  Abderrahim Marghich   \n",
      "1  pfbid0r6MipwSym1yake2nLbUWMhaM4qCCBiHkQj1gEpz3...       Abd Elhamdaoui   \n",
      "2                                    100021602716459    Abdlmajid Nassiri   \n",
      "3  pfbid0frh5uEi79JUwrwnJCgfpWAouZKfZD4Y4GAY4Rr8h...    Mouhssine Assaoud   \n",
      "4  pfbid02Q2TDFDdypSxmVJYWyZcbHkj2FJZz1qYUFuj2hUH...          Ahmed Amnay   \n",
      "\n",
      "                                         comment_url  comment_length  \\\n",
      "0  https://www.facebook.com/reel/1422500872098554...              64   \n",
      "1  https://www.facebook.com/reel/1422500872098554...             118   \n",
      "2  https://www.facebook.com/reel/1422500872098554...              19   \n",
      "3  https://www.facebook.com/reel/1422500872098554...             373   \n",
      "4  https://www.facebook.com/reel/1422500872098554...              27   \n",
      "\n",
      "   platform brand_name  \n",
      "0  facebook  winbyinwi  \n",
      "1  facebook  winbyinwi  \n",
      "2  facebook  winbyinwi  \n",
      "3  facebook  winbyinwi  \n",
      "4  facebook  winbyinwi  \n"
     ]
    }
   ],
   "source": [
    "all_comments = []\n",
    "\n",
    "for post in data:\n",
    "    comments = post.get('comments', [])\n",
    "    \n",
    "    if comments:\n",
    "        for comment in comments:\n",
    "            comment_flat = {\n",
    "                'comment_id': comment.get('comment_id', ''),\n",
    "                'message': comment.get('message', ''),\n",
    "                'created_time': comment.get('created_time', ''),\n",
    "                'like_count': parse_count(comment.get('like_count', 0)),\n",
    "                'reply_count': parse_count(comment.get('reply_count', 0)),\n",
    "                'user_id': comment.get('user_id', ''),\n",
    "                'user_name': comment.get('user_name', ''),\n",
    "                'comment_url': comment.get('comment_url', ''),\n",
    "                'comment_length': len(comment.get('message', '')),\n",
    "                'platform': comment.get('platform', ''),\n",
    "                'brand_name': comment.get('brand_name', '')\n",
    "            }\n",
    "            all_comments.append(comment_flat)\n",
    "\n",
    "comments_df = pd.DataFrame(all_comments)\n",
    "comments_df['created_time'] = pd.to_datetime(comments_df['created_time'], errors='coerce')\n",
    "\n",
    "print(comments_df.head())\n"
   ]
  },
  {
   "cell_type": "code",
   "execution_count": 23,
   "metadata": {},
   "outputs": [
    {
     "name": "stdout",
     "output_type": "stream",
     "text": [
      "<class 'pandas.core.frame.DataFrame'>\n",
      "RangeIndex: 6231 entries, 0 to 6230\n",
      "Data columns (total 11 columns):\n",
      " #   Column          Non-Null Count  Dtype              \n",
      "---  ------          --------------  -----              \n",
      " 0   comment_id      6231 non-null   object             \n",
      " 1   message         6231 non-null   object             \n",
      " 2   created_time    6231 non-null   datetime64[ns, UTC]\n",
      " 3   like_count      6231 non-null   int64              \n",
      " 4   reply_count     6231 non-null   int64              \n",
      " 5   user_id         6231 non-null   object             \n",
      " 6   user_name       6231 non-null   object             \n",
      " 7   comment_url     6231 non-null   object             \n",
      " 8   comment_length  6231 non-null   int64              \n",
      " 9   platform        6231 non-null   object             \n",
      " 10  brand_name      6231 non-null   object             \n",
      "dtypes: datetime64[ns, UTC](1), int64(3), object(7)\n",
      "memory usage: 535.6+ KB\n"
     ]
    }
   ],
   "source": [
    "comments_df.info()"
   ]
  },
  {
   "cell_type": "code",
   "execution_count": 24,
   "metadata": {},
   "outputs": [
    {
     "data": {
      "text/plain": [
       "6231"
      ]
     },
     "execution_count": 24,
     "metadata": {},
     "output_type": "execute_result"
    }
   ],
   "source": [
    "comments_df[\"comment_id\"].nunique()"
   ]
  },
  {
   "cell_type": "code",
   "execution_count": 25,
   "metadata": {},
   "outputs": [
    {
     "name": "stdout",
     "output_type": "stream",
     "text": [
      "Nombre de commentaires dupliqués : 0\n",
      "Empty DataFrame\n",
      "Columns: [comment_id, message, created_time]\n",
      "Index: []\n"
     ]
    }
   ],
   "source": [
    "# 1. Trouver les comment_id dupliqués\n",
    "duplicated_ids = comments_df['comment_id'][comments_df['comment_id'].duplicated()]\n",
    "\n",
    "# 2. Accéder aux lignes complètes avec ces comment_id\n",
    "duplicated_comments = comments_df[comments_df['comment_id'].isin(duplicated_ids)]\n",
    "\n",
    "# 3. Afficher les résultats\n",
    "print(f\"Nombre de commentaires dupliqués : {duplicated_comments.shape[0]}\")\n",
    "print(duplicated_comments[['comment_id', 'message', 'created_time']])\n"
   ]
  },
  {
   "cell_type": "code",
   "execution_count": 26,
   "metadata": {},
   "outputs": [
    {
     "name": "stdout",
     "output_type": "stream",
     "text": [
      "(6231, 11)\n",
      "comment_id                     object\n",
      "message                        object\n",
      "created_time      datetime64[ns, UTC]\n",
      "like_count                      int64\n",
      "reply_count                     int64\n",
      "user_id                        object\n",
      "user_name                      object\n",
      "comment_url                    object\n",
      "comment_length                  int64\n",
      "platform                       object\n",
      "brand_name                     object\n",
      "dtype: object\n"
     ]
    },
    {
     "data": {
      "text/html": [
       "<div>\n",
       "<style scoped>\n",
       "    .dataframe tbody tr th:only-of-type {\n",
       "        vertical-align: middle;\n",
       "    }\n",
       "\n",
       "    .dataframe tbody tr th {\n",
       "        vertical-align: top;\n",
       "    }\n",
       "\n",
       "    .dataframe thead th {\n",
       "        text-align: right;\n",
       "    }\n",
       "</style>\n",
       "<table border=\"1\" class=\"dataframe\">\n",
       "  <thead>\n",
       "    <tr style=\"text-align: right;\">\n",
       "      <th></th>\n",
       "      <th>comment_id</th>\n",
       "      <th>message</th>\n",
       "      <th>created_time</th>\n",
       "      <th>like_count</th>\n",
       "      <th>reply_count</th>\n",
       "      <th>user_id</th>\n",
       "      <th>user_name</th>\n",
       "      <th>comment_url</th>\n",
       "      <th>comment_length</th>\n",
       "      <th>platform</th>\n",
       "      <th>brand_name</th>\n",
       "    </tr>\n",
       "  </thead>\n",
       "  <tbody>\n",
       "    <tr>\n",
       "      <th>0</th>\n",
       "      <td>1234033491702046</td>\n",
       "      <td>مزال مهداكم الله تدوزو ليا واحد remboursement ...</td>\n",
       "      <td>2025-06-07 10:33:26+00:00</td>\n",
       "      <td>1</td>\n",
       "      <td>2</td>\n",
       "      <td>pfbid02DZ2U5yoWEC3RKmQzFff28Cd5MRRvyH6QUsLkBBC...</td>\n",
       "      <td>Abderrahim Marghich</td>\n",
       "      <td>https://www.facebook.com/reel/1422500872098554...</td>\n",
       "      <td>64</td>\n",
       "      <td>facebook</td>\n",
       "      <td>winbyinwi</td>\n",
       "    </tr>\n",
       "    <tr>\n",
       "      <th>1</th>\n",
       "      <td>4052044455046938</td>\n",
       "      <td>J'ai oublié mon mot de passe de mon compte win...</td>\n",
       "      <td>2025-06-09 01:46:12+00:00</td>\n",
       "      <td>0</td>\n",
       "      <td>3</td>\n",
       "      <td>pfbid0r6MipwSym1yake2nLbUWMhaM4qCCBiHkQj1gEpz3...</td>\n",
       "      <td>Abd Elhamdaoui</td>\n",
       "      <td>https://www.facebook.com/reel/1422500872098554...</td>\n",
       "      <td>118</td>\n",
       "      <td>facebook</td>\n",
       "      <td>winbyinwi</td>\n",
       "    </tr>\n",
       "    <tr>\n",
       "      <th>2</th>\n",
       "      <td>1924792288332814</td>\n",
       "      <td>‏عيد مبارك سعيد win</td>\n",
       "      <td>2025-06-07 10:55:15+00:00</td>\n",
       "      <td>0</td>\n",
       "      <td>0</td>\n",
       "      <td>100021602716459</td>\n",
       "      <td>Abdlmajid Nassiri</td>\n",
       "      <td>https://www.facebook.com/reel/1422500872098554...</td>\n",
       "      <td>19</td>\n",
       "      <td>facebook</td>\n",
       "      <td>winbyinwi</td>\n",
       "    </tr>\n",
       "    <tr>\n",
       "      <th>3</th>\n",
       "      <td>1052396893504978</td>\n",
       "      <td>Nass dwin jawboni ohllo lia lmochkil, ana oga3...</td>\n",
       "      <td>2025-06-11 13:18:09+00:00</td>\n",
       "      <td>0</td>\n",
       "      <td>2</td>\n",
       "      <td>pfbid0frh5uEi79JUwrwnJCgfpWAouZKfZD4Y4GAY4Rr8h...</td>\n",
       "      <td>Mouhssine Assaoud</td>\n",
       "      <td>https://www.facebook.com/reel/1422500872098554...</td>\n",
       "      <td>373</td>\n",
       "      <td>facebook</td>\n",
       "      <td>winbyinwi</td>\n",
       "    </tr>\n",
       "    <tr>\n",
       "      <th>4</th>\n",
       "      <td>1657038488280678</td>\n",
       "      <td>واش كاتخدمو سيمانة كاملة ؟؟</td>\n",
       "      <td>2025-06-07 11:39:20+00:00</td>\n",
       "      <td>0</td>\n",
       "      <td>1</td>\n",
       "      <td>pfbid02Q2TDFDdypSxmVJYWyZcbHkj2FJZz1qYUFuj2hUH...</td>\n",
       "      <td>Ahmed Amnay</td>\n",
       "      <td>https://www.facebook.com/reel/1422500872098554...</td>\n",
       "      <td>27</td>\n",
       "      <td>facebook</td>\n",
       "      <td>winbyinwi</td>\n",
       "    </tr>\n",
       "  </tbody>\n",
       "</table>\n",
       "</div>"
      ],
      "text/plain": [
       "         comment_id                                            message  \\\n",
       "0  1234033491702046  مزال مهداكم الله تدوزو ليا واحد remboursement ...   \n",
       "1  4052044455046938  J'ai oublié mon mot de passe de mon compte win...   \n",
       "2  1924792288332814                                ‏عيد مبارك سعيد win   \n",
       "3  1052396893504978  Nass dwin jawboni ohllo lia lmochkil, ana oga3...   \n",
       "4  1657038488280678                        واش كاتخدمو سيمانة كاملة ؟؟   \n",
       "\n",
       "               created_time  like_count  reply_count  \\\n",
       "0 2025-06-07 10:33:26+00:00           1            2   \n",
       "1 2025-06-09 01:46:12+00:00           0            3   \n",
       "2 2025-06-07 10:55:15+00:00           0            0   \n",
       "3 2025-06-11 13:18:09+00:00           0            2   \n",
       "4 2025-06-07 11:39:20+00:00           0            1   \n",
       "\n",
       "                                             user_id            user_name  \\\n",
       "0  pfbid02DZ2U5yoWEC3RKmQzFff28Cd5MRRvyH6QUsLkBBC...  Abderrahim Marghich   \n",
       "1  pfbid0r6MipwSym1yake2nLbUWMhaM4qCCBiHkQj1gEpz3...       Abd Elhamdaoui   \n",
       "2                                    100021602716459    Abdlmajid Nassiri   \n",
       "3  pfbid0frh5uEi79JUwrwnJCgfpWAouZKfZD4Y4GAY4Rr8h...    Mouhssine Assaoud   \n",
       "4  pfbid02Q2TDFDdypSxmVJYWyZcbHkj2FJZz1qYUFuj2hUH...          Ahmed Amnay   \n",
       "\n",
       "                                         comment_url  comment_length  \\\n",
       "0  https://www.facebook.com/reel/1422500872098554...              64   \n",
       "1  https://www.facebook.com/reel/1422500872098554...             118   \n",
       "2  https://www.facebook.com/reel/1422500872098554...              19   \n",
       "3  https://www.facebook.com/reel/1422500872098554...             373   \n",
       "4  https://www.facebook.com/reel/1422500872098554...              27   \n",
       "\n",
       "   platform brand_name  \n",
       "0  facebook  winbyinwi  \n",
       "1  facebook  winbyinwi  \n",
       "2  facebook  winbyinwi  \n",
       "3  facebook  winbyinwi  \n",
       "4  facebook  winbyinwi  "
      ]
     },
     "execution_count": 26,
     "metadata": {},
     "output_type": "execute_result"
    }
   ],
   "source": [
    "print(comments_df.shape)\n",
    "print(comments_df.dtypes)\n",
    "comments_df.head()"
   ]
  },
  {
   "cell_type": "code",
   "execution_count": 28,
   "metadata": {},
   "outputs": [
    {
     "data": {
      "image/png": "[encoded data removed]",
      "text/plain": [
       "<Figure size 800x400 with 1 Axes>"
      ]
     },
     "metadata": {},
     "output_type": "display_data"
    }
   ],
   "source": [
    "\n",
    "plt.figure(figsize=(8,4))\n",
    "sns.histplot(comments_df['comment_length'], bins=30, kde=True)\n",
    "plt.title(\"Distribution de la longueur des commentaires\")\n",
    "plt.xlabel(\"Nombre de caractères\")\n",
    "plt.ylabel(\"Fréquence\")\n",
    "plt.show()"
   ]
  },
  {
   "cell_type": "code",
   "execution_count": 30,
   "metadata": {},
   "outputs": [
    {
     "name": "stdout",
     "output_type": "stream",
     "text": [
      "Bonjour\n",
      "\n",
      " Je suis un client chez vous depuis 2021. J'ai presque jamais eu recours à votre assistance en chat jusqu'à hier. J'ai eu un problème d'accès à internet et j'ai pris contact avec une conseillère dénommée AYA. La dame n'a fait que me faire balader durant un long moment (plus de 45min) avec des questions qui n'ont rien à voir avec ma demande d'assistance, tout cela pour boucler sa journée de travail qui prend fin à 22h mettre fin de sa part à la soit disant l'assistance. Je vous envoie ci-joint les screenshots de la conversation pour en juger de vous même. Dans les pires cas de demande d'assistance je n'ai était pris pour un retardé mental tel que j'ai était traité hier soir (11/01/2025) et c'est la première fois de ma vie que je dépose une réclamation suite à une très mauvais traitement de ma personne et de ma demande en tant que client.\n",
      "\n",
      "L'image de votre société et des service qu'elle fournit sera surement terni par de tel enfantillages qui ne font ni résoudre les demandes des clients, ni respecter l'entité des clients qui y ont recours.\n"
     ]
    }
   ],
   "source": [
    "message = comments_df[comments_df[\"comment_length\"] > 1000][\"message\"].iloc[0]\n",
    "print(message)\n"
   ]
  },
  {
   "cell_type": "code",
   "execution_count": 31,
   "metadata": {},
   "outputs": [
    {
     "name": "stdout",
     "output_type": "stream",
     "text": [
      "🧪 Champs texte vides (commentaires) :\n",
      " - comment_id: 0 lignes vides\n",
      " - user_id: 0 lignes vides\n",
      " - user_name: 0 lignes vides\n",
      " - message: 390 lignes vides\n",
      " - created_time: 0 lignes vides\n",
      "\n",
      "🕒 Vérification des timestamps invalides (commentaires) :\n",
      " - created_time non valides : 0\n",
      "\n",
      "🔁 Valeurs uniques booléennes (commentaires) :\n",
      "\n",
      "🔢 Champs numériques avec des zéros (commentaires) :\n",
      " - like_count == 0 : 5036 lignes\n",
      " - reply_count == 0 : 3932 lignes\n",
      "\n",
      "📚 Vérification des champs listes (commentaires) :\n"
     ]
    }
   ],
   "source": [
    "# 1. Colonnes texte à vérifier (adapter selon les colonnes disponibles dans comments_df)\n",
    "text_fields = [\n",
    "    \"comment_id\", \"user_id\", \"user_name\", \"message\", \"created_time\"\n",
    "]\n",
    "\n",
    "print(\"🧪 Champs texte vides (commentaires) :\")\n",
    "for col in text_fields:\n",
    "    empty_count = (comments_df[col].astype(str).str.strip() == '').sum()\n",
    "    print(f\" - {col}: {empty_count} lignes vides\")\n",
    "\n",
    "# 2. Vérification created_time valide\n",
    "print(\"\\n🕒 Vérification des timestamps invalides (commentaires) :\")\n",
    "invalid_dates = pd.to_datetime(comments_df[\"created_time\"], errors=\"coerce\").isna().sum()\n",
    "print(f\" - created_time non valides : {invalid_dates}\")\n",
    "\n",
    "# 3. Valeurs uniques des booléens (si existent, ex: can_like, peut être adapté à ton cas)\n",
    "bool_fields = [col for col in [\"can_like\"] if col in comments_df.columns]\n",
    "\n",
    "print(\"\\n🔁 Valeurs uniques booléennes (commentaires) :\")\n",
    "for col in bool_fields:\n",
    "    print(f\" - {col}: {comments_df[col].nunique()} valeurs uniques ({comments_df[col].unique()})\")\n",
    "\n",
    "# 4. Champs numériques : valeurs à 0\n",
    "numeric_fields = [col for col in [\"like_count\", \"reply_count\"] if col in comments_df.columns]\n",
    "\n",
    "print(\"\\n🔢 Champs numériques avec des zéros (commentaires) :\")\n",
    "for col in numeric_fields:\n",
    "    zero_count = (comments_df[col] == 0).sum()\n",
    "    print(f\" - {col} == 0 : {zero_count} lignes\")\n",
    "\n",
    "# 5. Listes : hashtags et mentions dans les commentaires (si présents)\n",
    "list_fields = [col for col in [\"hashtags\", \"mentions\"] if col in comments_df.columns]\n",
    "\n",
    "print(\"\\n📚 Vérification des champs listes (commentaires) :\")\n",
    "for col in list_fields:\n",
    "    non_lists = comments_df[~comments_df[col].apply(lambda x: isinstance(x, list))].shape[0]\n",
    "    empty_lists = comments_df[comments_df[col].apply(lambda x: isinstance(x, list) and len(x) == 0)].shape[0]\n",
    "    print(f\" - {col} : {non_lists} non-listes / {empty_lists} listes vides\")"
   ]
  }
 ],
 "metadata": {
  "kernelspec": {
   "display_name": "Python 3",
   "language": "python",
   "name": "python3"
  },
  "language_info": {
   "codemirror_mode": {
    "name": "ipython",
    "version": 3
   },
   "file_extension": ".py",
   "mimetype": "text/x-python",
   "name": "python",
   "nbconvert_exporter": "python",
   "pygments_lexer": "ipython3",
   "version": "3.10.12"
  }
 },
 "nbformat": 4,
 "nbformat_minor": 2
}
